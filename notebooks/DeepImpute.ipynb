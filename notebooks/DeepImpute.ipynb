{
  "nbformat": 4,
  "nbformat_minor": 0,
  "metadata": {
    "colab": {
      "name": "DeepImpute.ipynb",
      "provenance": [],
      "authorship_tag": "ABX9TyMubdmGFzYzzpK/2ajvN+PV",
      "include_colab_link": true
    },
    "kernelspec": {
      "name": "python3",
      "display_name": "Python 3"
    },
    "language_info": {
      "name": "python"
    }
  },
  "cells": [
    {
      "cell_type": "markdown",
      "metadata": {
        "id": "view-in-github",
        "colab_type": "text"
      },
      "source": [
        "<a href=\"https://colab.research.google.com/github/inoue0426/AVCapturePhotoOutput_test/blob/master/notebooks/DeepImpute.ipynb\" target=\"_parent\"><img src=\"https://colab.research.google.com/assets/colab-badge.svg\" alt=\"Open In Colab\"/></a>"
      ]
    },
    {
      "cell_type": "code",
      "execution_count": null,
      "metadata": {
        "colab": {
          "base_uri": "https://localhost:8080/"
        },
        "id": "q8dabVQlgtEy",
        "outputId": "df7370ed-2a5f-40cd-c642-53ac201e2fec"
      },
      "outputs": [
        {
          "output_type": "stream",
          "name": "stdout",
          "text": [
            "Installing collected packages: tf-estimator-nightly, configparser, deepimpute\n",
            "Successfully installed configparser-5.2.0 deepimpute-1.2 tf-estimator-nightly-2.8.0.dev2021122109\n"
          ]
        }
      ],
      "source": [
        "!pip install deepimpute"
      ]
    },
    {
      "cell_type": "code",
      "source": [
        "from deepimpute.multinet import MultiNet\n",
        "import pandas as pd"
      ],
      "metadata": {
        "id": "2zlZTKoHg3So"
      },
      "execution_count": null,
      "outputs": []
    },
    {
      "cell_type": "code",
      "source": [
        "multinet = MultiNet() "
      ],
      "metadata": {
        "colab": {
          "base_uri": "https://localhost:8080/"
        },
        "id": "VhGwva9ghIJ-",
        "outputId": "54b78c4e-057e-47ac-8c1a-7c1281e36624"
      },
      "execution_count": null,
      "outputs": [
        {
          "output_type": "stream",
          "name": "stdout",
          "text": [
            "Using all the cores (2)\n"
          ]
        }
      ]
    },
    {
      "cell_type": "code",
      "source": [
        "NN_params = {\n",
        "        'learning_rate': 1e-4,\n",
        "        'batch_size': 64,\n",
        "        'max_epochs': 200,\n",
        "        'ncores': 5,\n",
        "        'sub_outputdim': 512,\n",
        "        'architecture': [\n",
        "            {\"type\": \"dense\", \"activation\": \"relu\", \"neurons\": 200},\n",
        "            {\"type\": \"dropout\", \"activation\": \"dropout\", \"rate\": 0.3}]\n",
        "    }\n",
        "\n",
        "multinet = MultiNet(**NN_params)"
      ],
      "metadata": {
        "id": "KCdcEj9MhKX5"
      },
      "execution_count": null,
      "outputs": []
    },
    {
      "cell_type": "code",
      "source": [
        "!wget -O data.txt.gz \\\n",
        "'https://www.ncbi.nlm.nih.gov/geo/download/?acc=GSE57249&format=file&file=GSE57249%5Ffpkm%2Etxt%2Egz'\n",
        "!gunzip data.txt.gz"
      ],
      "metadata": {
        "colab": {
          "base_uri": "https://localhost:8080/"
        },
        "id": "CkOQTvQ_hNNC",
        "outputId": "aee4278e-b304-48e5-d466-863a5e54de05"
      },
      "execution_count": null,
      "outputs": [
        {
          "output_type": "stream",
          "name": "stdout",
          "text": [
            "--2022-04-03 17:43:17--  https://www.ncbi.nlm.nih.gov/geo/download/?acc=GSE57249&format=file&file=GSE57249%5Ffpkm%2Etxt%2Egz\n",
            "Resolving www.ncbi.nlm.nih.gov (www.ncbi.nlm.nih.gov)... 130.14.29.110, 2607:f220:41e:4290::110\n",
            "Connecting to www.ncbi.nlm.nih.gov (www.ncbi.nlm.nih.gov)|130.14.29.110|:443... connected.\n",
            "HTTP request sent, awaiting response... 200 OK\n",
            "Length: 2970971 (2.8M) [application/octet-stream]\n",
            "Saving to: ‘data.txt.gz’\n",
            "\n",
            "data.txt.gz         100%[===================>]   2.83M  --.-KB/s    in 0.1s    \n",
            "\n",
            "2022-04-03 17:43:17 (21.9 MB/s) - ‘data.txt.gz’ saved [2970971/2970971]\n",
            "\n"
          ]
        }
      ]
    },
    {
      "cell_type": "code",
      "source": [
        "data = pd.read_csv('data.txt', index_col=0, sep='\\t').reset_index(drop=True)\n",
        "data.columns = range(data.shape[1])"
      ],
      "metadata": {
        "id": "93O_rfGJhhMo"
      },
      "execution_count": null,
      "outputs": []
    },
    {
      "cell_type": "code",
      "source": [
        "data.head()"
      ],
      "metadata": {
        "colab": {
          "base_uri": "https://localhost:8080/",
          "height": 299
        },
        "id": "S_GCGalOh2rF",
        "outputId": "0bfe52cf-4579-4718-8213-2a868925eb69"
      },
      "execution_count": null,
      "outputs": [
        {
          "output_type": "execute_result",
          "data": {
            "text/plain": [
              "        0        1         2         3         4         5          6   \\\n",
              "0  25.8078  36.7561   8.87692   24.5712   31.2255   24.7722  40.745800   \n",
              "1  93.4291  92.1165  94.59080  107.0380  121.4490  139.3230   0.960904   \n",
              "2   0.0000   0.0000   0.00000    0.0000    0.0000    0.0000   0.000000   \n",
              "3  37.9544  22.4305  23.34200   42.2728   23.8579   32.4989  15.721000   \n",
              "4   0.0000   0.0000   0.00000    0.0000    0.0000    0.0000   0.000000   \n",
              "\n",
              "          7         8         9   ...         46        47        48  \\\n",
              "0   38.41550   43.4644   32.3039  ...   28.04380   5.55538   16.9205   \n",
              "1  162.72700  121.1760  132.2440  ...  112.88000  27.00820  105.0870   \n",
              "2    0.00000    0.0000    0.0000  ...    0.00000   0.00000    0.0000   \n",
              "3   37.73550   48.2360   34.3155  ...    1.08452   0.00000    0.0000   \n",
              "4    1.19912    0.0000    0.0000  ...    0.00000   0.00000    0.0000   \n",
              "\n",
              "          49        50         51        52       53        54       55  \n",
              "0  14.552100  51.47380    1.28556  40.56320  0.00000  0.084052  0.00000  \n",
              "1  70.179700  41.61460  131.12900  56.93390  8.76009  3.831900  2.78523  \n",
              "2   0.261558   0.00000    0.00000   0.00000  0.00000  0.000000  0.00000  \n",
              "3   0.000000   4.74386    0.00000   2.09974  0.00000  0.000000  0.00000  \n",
              "4   0.000000   0.00000    0.00000   0.00000  0.00000  0.000000  0.00000  \n",
              "\n",
              "[5 rows x 56 columns]"
            ],
            "text/html": [
              "\n",
              "  <div id=\"df-52509d16-0197-49f1-8d1c-d96383f0882b\">\n",
              "    <div class=\"colab-df-container\">\n",
              "      <div>\n",
              "<style scoped>\n",
              "    .dataframe tbody tr th:only-of-type {\n",
              "        vertical-align: middle;\n",
              "    }\n",
              "\n",
              "    .dataframe tbody tr th {\n",
              "        vertical-align: top;\n",
              "    }\n",
              "\n",
              "    .dataframe thead th {\n",
              "        text-align: right;\n",
              "    }\n",
              "</style>\n",
              "<table border=\"1\" class=\"dataframe\">\n",
              "  <thead>\n",
              "    <tr style=\"text-align: right;\">\n",
              "      <th></th>\n",
              "      <th>0</th>\n",
              "      <th>1</th>\n",
              "      <th>2</th>\n",
              "      <th>3</th>\n",
              "      <th>4</th>\n",
              "      <th>5</th>\n",
              "      <th>6</th>\n",
              "      <th>7</th>\n",
              "      <th>8</th>\n",
              "      <th>9</th>\n",
              "      <th>...</th>\n",
              "      <th>46</th>\n",
              "      <th>47</th>\n",
              "      <th>48</th>\n",
              "      <th>49</th>\n",
              "      <th>50</th>\n",
              "      <th>51</th>\n",
              "      <th>52</th>\n",
              "      <th>53</th>\n",
              "      <th>54</th>\n",
              "      <th>55</th>\n",
              "    </tr>\n",
              "  </thead>\n",
              "  <tbody>\n",
              "    <tr>\n",
              "      <th>0</th>\n",
              "      <td>25.8078</td>\n",
              "      <td>36.7561</td>\n",
              "      <td>8.87692</td>\n",
              "      <td>24.5712</td>\n",
              "      <td>31.2255</td>\n",
              "      <td>24.7722</td>\n",
              "      <td>40.745800</td>\n",
              "      <td>38.41550</td>\n",
              "      <td>43.4644</td>\n",
              "      <td>32.3039</td>\n",
              "      <td>...</td>\n",
              "      <td>28.04380</td>\n",
              "      <td>5.55538</td>\n",
              "      <td>16.9205</td>\n",
              "      <td>14.552100</td>\n",
              "      <td>51.47380</td>\n",
              "      <td>1.28556</td>\n",
              "      <td>40.56320</td>\n",
              "      <td>0.00000</td>\n",
              "      <td>0.084052</td>\n",
              "      <td>0.00000</td>\n",
              "    </tr>\n",
              "    <tr>\n",
              "      <th>1</th>\n",
              "      <td>93.4291</td>\n",
              "      <td>92.1165</td>\n",
              "      <td>94.59080</td>\n",
              "      <td>107.0380</td>\n",
              "      <td>121.4490</td>\n",
              "      <td>139.3230</td>\n",
              "      <td>0.960904</td>\n",
              "      <td>162.72700</td>\n",
              "      <td>121.1760</td>\n",
              "      <td>132.2440</td>\n",
              "      <td>...</td>\n",
              "      <td>112.88000</td>\n",
              "      <td>27.00820</td>\n",
              "      <td>105.0870</td>\n",
              "      <td>70.179700</td>\n",
              "      <td>41.61460</td>\n",
              "      <td>131.12900</td>\n",
              "      <td>56.93390</td>\n",
              "      <td>8.76009</td>\n",
              "      <td>3.831900</td>\n",
              "      <td>2.78523</td>\n",
              "    </tr>\n",
              "    <tr>\n",
              "      <th>2</th>\n",
              "      <td>0.0000</td>\n",
              "      <td>0.0000</td>\n",
              "      <td>0.00000</td>\n",
              "      <td>0.0000</td>\n",
              "      <td>0.0000</td>\n",
              "      <td>0.0000</td>\n",
              "      <td>0.000000</td>\n",
              "      <td>0.00000</td>\n",
              "      <td>0.0000</td>\n",
              "      <td>0.0000</td>\n",
              "      <td>...</td>\n",
              "      <td>0.00000</td>\n",
              "      <td>0.00000</td>\n",
              "      <td>0.0000</td>\n",
              "      <td>0.261558</td>\n",
              "      <td>0.00000</td>\n",
              "      <td>0.00000</td>\n",
              "      <td>0.00000</td>\n",
              "      <td>0.00000</td>\n",
              "      <td>0.000000</td>\n",
              "      <td>0.00000</td>\n",
              "    </tr>\n",
              "    <tr>\n",
              "      <th>3</th>\n",
              "      <td>37.9544</td>\n",
              "      <td>22.4305</td>\n",
              "      <td>23.34200</td>\n",
              "      <td>42.2728</td>\n",
              "      <td>23.8579</td>\n",
              "      <td>32.4989</td>\n",
              "      <td>15.721000</td>\n",
              "      <td>37.73550</td>\n",
              "      <td>48.2360</td>\n",
              "      <td>34.3155</td>\n",
              "      <td>...</td>\n",
              "      <td>1.08452</td>\n",
              "      <td>0.00000</td>\n",
              "      <td>0.0000</td>\n",
              "      <td>0.000000</td>\n",
              "      <td>4.74386</td>\n",
              "      <td>0.00000</td>\n",
              "      <td>2.09974</td>\n",
              "      <td>0.00000</td>\n",
              "      <td>0.000000</td>\n",
              "      <td>0.00000</td>\n",
              "    </tr>\n",
              "    <tr>\n",
              "      <th>4</th>\n",
              "      <td>0.0000</td>\n",
              "      <td>0.0000</td>\n",
              "      <td>0.00000</td>\n",
              "      <td>0.0000</td>\n",
              "      <td>0.0000</td>\n",
              "      <td>0.0000</td>\n",
              "      <td>0.000000</td>\n",
              "      <td>1.19912</td>\n",
              "      <td>0.0000</td>\n",
              "      <td>0.0000</td>\n",
              "      <td>...</td>\n",
              "      <td>0.00000</td>\n",
              "      <td>0.00000</td>\n",
              "      <td>0.0000</td>\n",
              "      <td>0.000000</td>\n",
              "      <td>0.00000</td>\n",
              "      <td>0.00000</td>\n",
              "      <td>0.00000</td>\n",
              "      <td>0.00000</td>\n",
              "      <td>0.000000</td>\n",
              "      <td>0.00000</td>\n",
              "    </tr>\n",
              "  </tbody>\n",
              "</table>\n",
              "<p>5 rows × 56 columns</p>\n",
              "</div>\n",
              "      <button class=\"colab-df-convert\" onclick=\"convertToInteractive('df-52509d16-0197-49f1-8d1c-d96383f0882b')\"\n",
              "              title=\"Convert this dataframe to an interactive table.\"\n",
              "              style=\"display:none;\">\n",
              "        \n",
              "  <svg xmlns=\"http://www.w3.org/2000/svg\" height=\"24px\"viewBox=\"0 0 24 24\"\n",
              "       width=\"24px\">\n",
              "    <path d=\"M0 0h24v24H0V0z\" fill=\"none\"/>\n",
              "    <path d=\"M18.56 5.44l.94 2.06.94-2.06 2.06-.94-2.06-.94-.94-2.06-.94 2.06-2.06.94zm-11 1L8.5 8.5l.94-2.06 2.06-.94-2.06-.94L8.5 2.5l-.94 2.06-2.06.94zm10 10l.94 2.06.94-2.06 2.06-.94-2.06-.94-.94-2.06-.94 2.06-2.06.94z\"/><path d=\"M17.41 7.96l-1.37-1.37c-.4-.4-.92-.59-1.43-.59-.52 0-1.04.2-1.43.59L10.3 9.45l-7.72 7.72c-.78.78-.78 2.05 0 2.83L4 21.41c.39.39.9.59 1.41.59.51 0 1.02-.2 1.41-.59l7.78-7.78 2.81-2.81c.8-.78.8-2.07 0-2.86zM5.41 20L4 18.59l7.72-7.72 1.47 1.35L5.41 20z\"/>\n",
              "  </svg>\n",
              "      </button>\n",
              "      \n",
              "  <style>\n",
              "    .colab-df-container {\n",
              "      display:flex;\n",
              "      flex-wrap:wrap;\n",
              "      gap: 12px;\n",
              "    }\n",
              "\n",
              "    .colab-df-convert {\n",
              "      background-color: #E8F0FE;\n",
              "      border: none;\n",
              "      border-radius: 50%;\n",
              "      cursor: pointer;\n",
              "      display: none;\n",
              "      fill: #1967D2;\n",
              "      height: 32px;\n",
              "      padding: 0 0 0 0;\n",
              "      width: 32px;\n",
              "    }\n",
              "\n",
              "    .colab-df-convert:hover {\n",
              "      background-color: #E2EBFA;\n",
              "      box-shadow: 0px 1px 2px rgba(60, 64, 67, 0.3), 0px 1px 3px 1px rgba(60, 64, 67, 0.15);\n",
              "      fill: #174EA6;\n",
              "    }\n",
              "\n",
              "    [theme=dark] .colab-df-convert {\n",
              "      background-color: #3B4455;\n",
              "      fill: #D2E3FC;\n",
              "    }\n",
              "\n",
              "    [theme=dark] .colab-df-convert:hover {\n",
              "      background-color: #434B5C;\n",
              "      box-shadow: 0px 1px 3px 1px rgba(0, 0, 0, 0.15);\n",
              "      filter: drop-shadow(0px 1px 2px rgba(0, 0, 0, 0.3));\n",
              "      fill: #FFFFFF;\n",
              "    }\n",
              "  </style>\n",
              "\n",
              "      <script>\n",
              "        const buttonEl =\n",
              "          document.querySelector('#df-52509d16-0197-49f1-8d1c-d96383f0882b button.colab-df-convert');\n",
              "        buttonEl.style.display =\n",
              "          google.colab.kernel.accessAllowed ? 'block' : 'none';\n",
              "\n",
              "        async function convertToInteractive(key) {\n",
              "          const element = document.querySelector('#df-52509d16-0197-49f1-8d1c-d96383f0882b');\n",
              "          const dataTable =\n",
              "            await google.colab.kernel.invokeFunction('convertToInteractive',\n",
              "                                                     [key], {});\n",
              "          if (!dataTable) return;\n",
              "\n",
              "          const docLinkHtml = 'Like what you see? Visit the ' +\n",
              "            '<a target=\"_blank\" href=https://colab.research.google.com/notebooks/data_table.ipynb>data table notebook</a>'\n",
              "            + ' to learn more about interactive tables.';\n",
              "          element.innerHTML = '';\n",
              "          dataTable['output_type'] = 'display_data';\n",
              "          await google.colab.output.renderOutput(dataTable, element);\n",
              "          const docLink = document.createElement('div');\n",
              "          docLink.innerHTML = docLinkHtml;\n",
              "          element.appendChild(docLink);\n",
              "        }\n",
              "      </script>\n",
              "    </div>\n",
              "  </div>\n",
              "  "
            ]
          },
          "metadata": {},
          "execution_count": 15
        }
      ]
    },
    {
      "cell_type": "code",
      "source": [
        "multinet.fit(data, cell_subset=1, minVMR=0.5)"
      ],
      "metadata": {
        "colab": {
          "base_uri": "https://localhost:8080/",
          "height": 525
        },
        "id": "I753Zgoch3Fv",
        "outputId": "799858b4-d708-4b53-ca6f-24f6c5041c8f"
      },
      "execution_count": null,
      "outputs": [
        {
          "output_type": "stream",
          "name": "stdout",
          "text": [
            "Input dataset is 25737 cells (rows) and 56 genes (columns)\n",
            "First 3 rows and columns:\n",
            "         0        1         2\n",
            "0  25.8078  36.7561   8.87692\n",
            "1  93.4291  92.1165  94.59080\n",
            "2   0.0000   0.0000   0.00000\n",
            "512 genes selected for imputation\n",
            "Net 0: 0 predictors, 512 targets\n",
            "Normalization\n",
            "Building network\n",
            "[{'type': 'dense', 'activation': 'relu', 'neurons': 200}, {'type': 'dropout', 'activation': 'dropout', 'rate': 0.3}]\n"
          ]
        },
        {
          "output_type": "error",
          "ename": "AttributeError",
          "evalue": "ignored",
          "traceback": [
            "\u001b[0;31m---------------------------------------------------------------------------\u001b[0m",
            "\u001b[0;31mAttributeError\u001b[0m                            Traceback (most recent call last)",
            "\u001b[0;32m<ipython-input-16-28840de4e24c>\u001b[0m in \u001b[0;36m<module>\u001b[0;34m()\u001b[0m\n\u001b[0;32m----> 1\u001b[0;31m \u001b[0mmultinet\u001b[0m\u001b[0;34m.\u001b[0m\u001b[0mfit\u001b[0m\u001b[0;34m(\u001b[0m\u001b[0mdata\u001b[0m\u001b[0;34m,\u001b[0m \u001b[0mcell_subset\u001b[0m\u001b[0;34m=\u001b[0m\u001b[0;36m1\u001b[0m\u001b[0;34m,\u001b[0m \u001b[0mminVMR\u001b[0m\u001b[0;34m=\u001b[0m\u001b[0;36m0.5\u001b[0m\u001b[0;34m)\u001b[0m\u001b[0;34m\u001b[0m\u001b[0;34m\u001b[0m\u001b[0m\n\u001b[0m",
            "\u001b[0;32m/usr/local/lib/python3.7/dist-packages/deepimpute/multinet.py\u001b[0m in \u001b[0;36mfit\u001b[0;34m(self, raw, cell_subset, NN_lim, genes_to_impute, n_pred, ntop, minVMR, mode)\u001b[0m\n\u001b[1;32m    216\u001b[0m \u001b[0;34m\u001b[0m\u001b[0m\n\u001b[1;32m    217\u001b[0m         \u001b[0mprint\u001b[0m\u001b[0;34m(\u001b[0m\u001b[0;34m\"Building network\"\u001b[0m\u001b[0;34m)\u001b[0m\u001b[0;34m\u001b[0m\u001b[0;34m\u001b[0m\u001b[0m\n\u001b[0;32m--> 218\u001b[0;31m         \u001b[0mmodel\u001b[0m \u001b[0;34m=\u001b[0m \u001b[0mself\u001b[0m\u001b[0;34m.\u001b[0m\u001b[0mbuild\u001b[0m\u001b[0;34m(\u001b[0m\u001b[0;34m[\u001b[0m\u001b[0mlen\u001b[0m\u001b[0;34m(\u001b[0m\u001b[0mgenes\u001b[0m\u001b[0;34m)\u001b[0m \u001b[0;32mfor\u001b[0m \u001b[0mgenes\u001b[0m \u001b[0;32min\u001b[0m \u001b[0mself\u001b[0m\u001b[0;34m.\u001b[0m\u001b[0mpredictors\u001b[0m\u001b[0;34m]\u001b[0m\u001b[0;34m)\u001b[0m\u001b[0;34m\u001b[0m\u001b[0;34m\u001b[0m\u001b[0m\n\u001b[0m\u001b[1;32m    219\u001b[0m \u001b[0;34m\u001b[0m\u001b[0m\n\u001b[1;32m    220\u001b[0m         \u001b[0mtest_cells\u001b[0m \u001b[0;34m=\u001b[0m \u001b[0mnp\u001b[0m\u001b[0;34m.\u001b[0m\u001b[0mrandom\u001b[0m\u001b[0;34m.\u001b[0m\u001b[0mchoice\u001b[0m\u001b[0;34m(\u001b[0m\u001b[0mnorm_data\u001b[0m\u001b[0;34m.\u001b[0m\u001b[0mindex\u001b[0m\u001b[0;34m,\u001b[0m \u001b[0mint\u001b[0m\u001b[0;34m(\u001b[0m\u001b[0;36m0.05\u001b[0m \u001b[0;34m*\u001b[0m \u001b[0mnorm_data\u001b[0m\u001b[0;34m.\u001b[0m\u001b[0mshape\u001b[0m\u001b[0;34m[\u001b[0m\u001b[0;36m0\u001b[0m\u001b[0;34m]\u001b[0m\u001b[0;34m)\u001b[0m\u001b[0;34m,\u001b[0m \u001b[0mreplace\u001b[0m\u001b[0;34m=\u001b[0m\u001b[0;32mFalse\u001b[0m\u001b[0;34m)\u001b[0m\u001b[0;34m\u001b[0m\u001b[0;34m\u001b[0m\u001b[0m\n",
            "\u001b[0;32m/usr/local/lib/python3.7/dist-packages/deepimpute/multinet.py\u001b[0m in \u001b[0;36mbuild\u001b[0;34m(self, inputdims)\u001b[0m\n\u001b[1;32m    162\u001b[0m                 \u001b[0mexit\u001b[0m\u001b[0;34m(\u001b[0m\u001b[0;36m1\u001b[0m\u001b[0;34m)\u001b[0m\u001b[0;34m\u001b[0m\u001b[0;34m\u001b[0m\u001b[0m\n\u001b[1;32m    163\u001b[0m \u001b[0;34m\u001b[0m\u001b[0m\n\u001b[0;32m--> 164\u001b[0;31m         model.compile(optimizer=keras.optimizers.Adam(lr=self.NN_parameters['learning_rate']),\n\u001b[0m\u001b[1;32m    165\u001b[0m                       loss=loss)\n\u001b[1;32m    166\u001b[0m \u001b[0;34m\u001b[0m\u001b[0m\n",
            "\u001b[0;31mAttributeError\u001b[0m: module 'keras.optimizers' has no attribute 'Adam'"
          ]
        }
      ]
    },
    {
      "cell_type": "code",
      "source": [
        ""
      ],
      "metadata": {
        "id": "zhDLc2umi709"
      },
      "execution_count": null,
      "outputs": []
    }
  ]
}