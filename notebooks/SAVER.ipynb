{
  "nbformat": 4,
  "nbformat_minor": 0,
  "metadata": {
    "colab": {
      "name": "SAVER",
      "provenance": [],
      "authorship_tag": "ABX9TyOSZLLJI4OJjZK83V8JxJrn",
      "include_colab_link": true
    },
    "kernelspec": {
      "name": "ir",
      "display_name": "R"
    },
    "language_info": {
      "name": "R"
    }
  },
  "cells": [
    {
      "cell_type": "markdown",
      "metadata": {
        "id": "view-in-github",
        "colab_type": "text"
      },
      "source": [
        "<a href=\"https://colab.research.google.com/github/inoue0426/AVCapturePhotoOutput_test/blob/master/notebooks/SAVER.ipynb\" target=\"_parent\"><img src=\"https://colab.research.google.com/assets/colab-badge.svg\" alt=\"Open In Colab\"/></a>"
      ]
    },
    {
      "cell_type": "code",
      "execution_count": null,
      "metadata": {
        "colab": {
          "base_uri": "https://localhost:8080/"
        },
        "id": "MJOxeb6xqvCx",
        "outputId": "9873ed2c-b6d5-4f7b-cf0e-64ce2ef5e68d"
      },
      "outputs": [
        {
          "output_type": "stream",
          "name": "stderr",
          "text": [
            "Installing package into ‘/usr/local/lib/R/site-library’\n",
            "(as ‘lib’ is unspecified)\n",
            "\n"
          ]
        }
      ],
      "source": [
        "install.packages(\"SAVER\")\n",
        "library(SAVER)"
      ]
    },
    {
      "cell_type": "code",
      "source": [
        "library(SAVER)\n",
        "packageVersion(\"SAVER\")"
      ],
      "metadata": {
        "colab": {
          "base_uri": "https://localhost:8080/",
          "height": 35
        },
        "id": "abqezS80x_59",
        "outputId": "2b025021-6e93-425e-968a-f0d62d0c8f19"
      },
      "execution_count": null,
      "outputs": [
        {
          "output_type": "display_data",
          "data": {
            "text/plain": [
              "[1] ‘1.1.2’"
            ]
          },
          "metadata": {}
        }
      ]
    },
    {
      "cell_type": "code",
      "source": [
        "url <- 'https://storage.googleapis.com/linnarsson-lab-www-blobs/blobs/cortex/expression_mRNA_17-Aug-2014.txt'\n",
        "tmp <- tempfile()\n",
        "download.file(url,tmp)"
      ],
      "metadata": {
        "id": "0iFfglfOx_8S"
      },
      "execution_count": null,
      "outputs": []
    },
    {
      "cell_type": "code",
      "source": [
        "raw.data <- read.table(\n",
        "      tmp, header = FALSE, skip = 11, \n",
        "      row.names = 1, check.names = FALSE\n",
        ")"
      ],
      "metadata": {
        "id": "K999R9Ypx_-3"
      },
      "execution_count": null,
      "outputs": []
    },
    {
      "cell_type": "code",
      "source": [
        "raw.data = head(raw.data, n=100)\n",
        "dim(raw.data)"
      ],
      "metadata": {
        "colab": {
          "base_uri": "https://localhost:8080/",
          "height": 35
        },
        "id": "HLuIewUcz_yX",
        "outputId": "9285cb74-ab94-461c-f2f7-339e28415da5"
      },
      "execution_count": null,
      "outputs": [
        {
          "output_type": "display_data",
          "data": {
            "text/html": [
              "<style>\n",
              ".list-inline {list-style: none; margin:0; padding: 0}\n",
              ".list-inline>li {display: inline-block}\n",
              ".list-inline>li:not(:last-child)::after {content: \"\\00b7\"; padding: 0 .5ex}\n",
              "</style>\n",
              "<ol class=list-inline><li>100</li><li>3006</li></ol>\n"
            ],
            "text/markdown": "1. 100\n2. 3006\n\n\n",
            "text/latex": "\\begin{enumerate*}\n\\item 100\n\\item 3006\n\\end{enumerate*}\n",
            "text/plain": [
              "[1]  100 3006"
            ]
          },
          "metadata": {}
        }
      ]
    },
    {
      "cell_type": "code",
      "source": [
        "cortex <- as.matrix(raw.data[, -1])\n",
        "cellnames <- read.table(\n",
        "      tmp, skip = 7, nrows = 1, \n",
        "      row.names = 1, stringsAsFactors = FALSE\n",
        ")\n",
        "cellnames = head(cellnames, n=100)\n",
        "colnames(cortex) <- cellnames[-1]\n",
        "\n",
        "dim(cortex)"
      ],
      "metadata": {
        "colab": {
          "base_uri": "https://localhost:8080/",
          "height": 35
        },
        "id": "UGSzLoG_yAA9",
        "outputId": "7f441263-7208-4a62-ba49-5d3700cc1c7e"
      },
      "execution_count": null,
      "outputs": [
        {
          "output_type": "display_data",
          "data": {
            "text/html": [
              "<style>\n",
              ".list-inline {list-style: none; margin:0; padding: 0}\n",
              ".list-inline>li {display: inline-block}\n",
              ".list-inline>li:not(:last-child)::after {content: \"\\00b7\"; padding: 0 .5ex}\n",
              "</style>\n",
              "<ol class=list-inline><li>100</li><li>3005</li></ol>\n"
            ],
            "text/markdown": "1. 100\n2. 3005\n\n\n",
            "text/latex": "\\begin{enumerate*}\n\\item 100\n\\item 3005\n\\end{enumerate*}\n",
            "text/plain": [
              "[1]  100 3005"
            ]
          },
          "metadata": {}
        }
      ]
    },
    {
      "cell_type": "code",
      "source": [
        "cortex.saver <- saver(cortex, ncores = 12)"
      ],
      "metadata": {
        "id": "CkOQTvQ_hNNC",
        "colab": {
          "base_uri": "https://localhost:8080/"
        },
        "outputId": "89a4f548-b3c1-44f2-fed0-6806b9555ea7"
      },
      "execution_count": null,
      "outputs": [
        {
          "output_type": "stream",
          "name": "stderr",
          "text": [
            "Warning message in if (!(grepl(\"matrix\", class(x), ignore.case = TRUE))) {:\n",
            "“the condition has length > 1 and only the first element will be used”\n",
            "100 genes, 3005 cells\n",
            "\n",
            "Running SAVER with 12 worker(s)\n",
            "\n",
            "Calculating predictions for 100 genes using 75 genes and 3005 cells...\n",
            "\n",
            "Start time: 2022-04-03 19:35:21\n",
            "\n",
            "Estimating finish time...\n",
            "\n",
            "Finished 12/100 genes. Approximate finish time: 2022-04-03 19:39:14\n",
            "\n",
            "Calculating max cor cutoff...\n",
            "\n",
            "Finished 100/100 genes. Approximate finish time: 2022-04-03 19:45:39\n",
            "\n",
            "Done!\n",
            "\n",
            "Finish time: 2022-04-03 19:45:39\n",
            "\n",
            "Total time: 10.29805 mins\n",
            "\n"
          ]
        }
      ]
    },
    {
      "cell_type": "code",
      "source": [
        "str(cortex.saver)"
      ],
      "metadata": {
        "colab": {
          "base_uri": "https://localhost:8080/"
        },
        "id": "5ikayDZPtAhH",
        "outputId": "46a9786d-4b91-44e9-f522-2d6bb44403f6"
      },
      "execution_count": null,
      "outputs": [
        {
          "output_type": "stream",
          "name": "stdout",
          "text": [
            "List of 3\n",
            " $ estimate: num [1:100, 1:3005] 0.04 0.522 0.546 0.005 0.212 ...\n",
            "  ..- attr(*, \"dimnames\")=List of 2\n",
            "  .. ..$ : chr [1:100] \"Tspan12\" \"Tshz1\" \"Fnbp1l\" \"Adamts15\" ...\n",
            "  .. ..$ : chr [1:3005] \"1772071015_C02\" \"1772071017_G12\" \"1772071017_A05\" \"1772071014_B06\" ...\n",
            " $ se      : num [1:100, 1:3005] 0.073 0.286 0.279 0.017 0.175 0.042 0.056 0.546 0.167 0.01 ...\n",
            "  ..- attr(*, \"dimnames\")=List of 2\n",
            "  .. ..$ : chr [1:100] \"Tspan12\" \"Tshz1\" \"Fnbp1l\" \"Adamts15\" ...\n",
            "  .. ..$ : chr [1:3005] \"1772071015_C02\" \"1772071017_G12\" \"1772071017_A05\" \"1772071014_B06\" ...\n",
            " $ info    :List of 10\n",
            "  ..$ size.factor : num [1:3005] 5.74 6.91 10.1 10.32 5.05 ...\n",
            "  ..$ maxcor      : num [1:100] 0.1 0.134 0.0785 0.0784 0.0847 ...\n",
            "  ..$ lambda.max  : num [1:100] 0.1714 0.3053 0.2101 0.0556 0.1366 ...\n",
            "  ..$ lambda.min  : num [1:100] 0.01837 0.01417 0.01415 0.00544 0.02332 ...\n",
            "  ..$ sd.cv       : num [1:100] 1.535 3.464 1.225 0.853 0.374 ...\n",
            "  ..$ pred.time   : num [1:100] 3.43 33.34 34.63 1.24 33.19 ...\n",
            "  ..$ var.time    : num [1:100] 0.0499 0.2958 0.2917 0.3858 0.2967 ...\n",
            "  ..$ cutoff      : num 0.0665\n",
            "  ..$ lambda.coefs: num 0\n",
            "  ..$ total.time  : 'difftime' num 10.2980486432711\n",
            "  .. ..- attr(*, \"units\")= chr \"mins\"\n",
            " - attr(*, \"class\")= chr \"saver\"\n"
          ]
        }
      ]
    },
    {
      "cell_type": "code",
      "source": [
        "cortex.saver <- saver(cortex, ncores = 12, estimates.only = TRUE)"
      ],
      "metadata": {
        "colab": {
          "base_uri": "https://localhost:8080/"
        },
        "id": "RvKMWBRsugIP",
        "outputId": "2e72c453-8aaf-459c-ba54-e9e524f875d9"
      },
      "execution_count": null,
      "outputs": [
        {
          "output_type": "stream",
          "name": "stderr",
          "text": [
            "Warning message in if (!(grepl(\"matrix\", class(x), ignore.case = TRUE))) {:\n",
            "“the condition has length > 1 and only the first element will be used”\n",
            "100 genes, 3005 cells\n",
            "\n",
            "Running SAVER with 12 worker(s)\n",
            "\n",
            "Calculating predictions for 100 genes using 75 genes and 3005 cells...\n",
            "\n",
            "Start time: 2022-04-03 20:03:04\n",
            "\n",
            "Estimating finish time...\n",
            "\n",
            "Finished 12/100 genes. Approximate finish time: 2022-04-03 20:08:32\n",
            "\n",
            "Calculating max cor cutoff...\n",
            "\n",
            "Finished 100/100 genes. Approximate finish time: 2022-04-03 20:13:09\n",
            "\n",
            "Done!\n",
            "\n",
            "Finish time: 2022-04-03 20:13:09\n",
            "\n",
            "Total time: 10.07161 mins\n",
            "\n"
          ]
        }
      ]
    },
    {
      "cell_type": "code",
      "source": [
        "cortex.saver"
      ],
      "metadata": {
        "id": "WUu5H2dnvvbs",
        "colab": {
          "base_uri": "https://localhost:8080/",
          "height": 1000
        },
        "outputId": "4f242c89-087e-4cdb-eb2b-b112347fcb55"
      },
      "execution_count": null,
      "outputs": [
        {
          "output_type": "display_data",
          "data": {
            "text/html": [
              "<table class=\"dataframe\">\n",
              "<caption>A matrix: 100 × 3005 of type dbl</caption>\n",
              "<thead>\n",
              "\t<tr><th></th><th scope=col>1772071015_C02</th><th scope=col>1772071017_G12</th><th scope=col>1772071017_A05</th><th scope=col>1772071014_B06</th><th scope=col>1772067065_H06</th><th scope=col>1772071017_E02</th><th scope=col>1772067065_B07</th><th scope=col>1772067060_B09</th><th scope=col>1772071014_E04</th><th scope=col>1772071015_D04</th><th scope=col>⋯</th><th scope=col>1772066110_D12</th><th scope=col>1772071017_A07</th><th scope=col>1772063071_G10</th><th scope=col>1772058148_C03</th><th scope=col>1772063061_D09</th><th scope=col>1772067059_B04</th><th scope=col>1772066097_D04</th><th scope=col>1772063068_D01</th><th scope=col>1772066098_A12</th><th scope=col>1772058148_F03</th></tr>\n",
              "</thead>\n",
              "<tbody>\n",
              "\t<tr><th scope=row>Tspan12</th><td>0.040</td><td>0.037</td><td>0.027</td><td>0.271</td><td>0.049</td><td>0.039</td><td>0.455</td><td>0.045</td><td>0.064</td><td>0.045</td><td>⋯</td><td> 0.314</td><td>0.408</td><td>0.136</td><td>0.117</td><td> 0.495</td><td> 0.577</td><td> 0.567</td><td> 0.668</td><td> 0.708</td><td> 2.637</td></tr>\n",
              "\t<tr><th scope=row>Tshz1</th><td>0.516</td><td>0.158</td><td>0.026</td><td>0.193</td><td>0.335</td><td>0.295</td><td>0.375</td><td>0.178</td><td>0.064</td><td>0.352</td><td>⋯</td><td> 0.420</td><td>0.593</td><td>0.158</td><td>0.121</td><td> 0.645</td><td> 0.628</td><td> 0.529</td><td> 0.881</td><td> 0.951</td><td> 3.301</td></tr>\n",
              "\t<tr><th scope=row>Fnbp1l</th><td>0.533</td><td>0.185</td><td>0.564</td><td>0.368</td><td>0.332</td><td>0.351</td><td>0.309</td><td>0.131</td><td>1.419</td><td>0.462</td><td>⋯</td><td> 0.710</td><td>1.016</td><td>0.340</td><td>0.215</td><td> 1.276</td><td> 1.266</td><td> 1.087</td><td> 0.983</td><td> 1.225</td><td> 1.366</td></tr>\n",
              "\t<tr><th scope=row>Adamts15</th><td>0.006</td><td>0.008</td><td>0.004</td><td>0.005</td><td>0.008</td><td>0.009</td><td>0.007</td><td>0.011</td><td>0.011</td><td>0.010</td><td>⋯</td><td> 0.043</td><td>0.100</td><td>0.023</td><td>0.026</td><td> 0.076</td><td> 0.172</td><td> 0.083</td><td> 0.123</td><td> 0.118</td><td> 0.140</td></tr>\n",
              "\t<tr><th scope=row>Cldn12</th><td>0.212</td><td>0.177</td><td>0.118</td><td>0.038</td><td>0.074</td><td>0.053</td><td>0.071</td><td>0.067</td><td>0.470</td><td>0.450</td><td>⋯</td><td> 0.372</td><td>0.466</td><td>0.158</td><td>0.132</td><td> 0.570</td><td> 0.564</td><td> 0.463</td><td> 0.558</td><td> 0.673</td><td> 0.493</td></tr>\n",
              "\t<tr><th scope=row>Rxfp1</th><td>0.015</td><td>0.025</td><td>0.012</td><td>0.016</td><td>0.018</td><td>0.137</td><td>0.019</td><td>0.021</td><td>0.179</td><td>0.026</td><td>⋯</td><td> 0.022</td><td>0.023</td><td>0.035</td><td>0.551</td><td> 0.015</td><td> 0.016</td><td> 0.023</td><td> 0.016</td><td> 0.014</td><td> 0.023</td></tr>\n",
              "\t<tr><th scope=row>2310042E22Rik</th><td>0.035</td><td>0.140</td><td>0.199</td><td>0.302</td><td>0.026</td><td>0.066</td><td>0.041</td><td>0.029</td><td>0.012</td><td>0.028</td><td>⋯</td><td> 0.006</td><td>0.013</td><td>1.903</td><td>0.058</td><td> 0.003</td><td> 0.005</td><td> 0.005</td><td> 0.003</td><td> 0.003</td><td> 0.004</td></tr>\n",
              "\t<tr><th scope=row>Sema3c</th><td>1.871</td><td>0.029</td><td>2.407</td><td>0.180</td><td>1.838</td><td>0.067</td><td>1.280</td><td>0.086</td><td>2.125</td><td>4.717</td><td>⋯</td><td> 0.283</td><td>0.867</td><td>1.019</td><td>0.201</td><td> 1.162</td><td> 1.201</td><td> 1.009</td><td> 0.968</td><td> 1.283</td><td> 2.106</td></tr>\n",
              "\t<tr><th scope=row>Jam2</th><td>0.190</td><td>0.011</td><td>0.128</td><td>0.011</td><td>0.028</td><td>0.139</td><td>0.019</td><td>0.015</td><td>0.252</td><td>0.083</td><td>⋯</td><td> 0.401</td><td>0.417</td><td>0.137</td><td>0.085</td><td> 1.063</td><td> 1.274</td><td> 1.241</td><td> 1.003</td><td> 2.191</td><td> 1.847</td></tr>\n",
              "\t<tr><th scope=row>Apbb1ip</th><td>0.003</td><td>0.010</td><td>0.012</td><td>0.013</td><td>0.018</td><td>0.011</td><td>0.163</td><td>0.030</td><td>0.006</td><td>0.021</td><td>⋯</td><td> 0.059</td><td>0.091</td><td>0.045</td><td>0.033</td><td> 0.126</td><td> 0.185</td><td> 0.182</td><td> 0.177</td><td> 0.202</td><td> 0.098</td></tr>\n",
              "\t<tr><th scope=row>Frem2</th><td>0.005</td><td>0.013</td><td>0.008</td><td>0.009</td><td>0.014</td><td>0.014</td><td>0.012</td><td>0.201</td><td>0.009</td><td>0.008</td><td>⋯</td><td> 0.078</td><td>0.113</td><td>0.050</td><td>0.022</td><td> 0.162</td><td> 0.196</td><td> 0.123</td><td> 0.153</td><td> 0.181</td><td> 0.157</td></tr>\n",
              "\t<tr><th scope=row>BC005764</th><td>0.106</td><td>0.443</td><td>0.141</td><td>0.070</td><td>0.101</td><td>0.360</td><td>0.537</td><td>0.739</td><td>0.110</td><td>0.117</td><td>⋯</td><td> 0.131</td><td>0.691</td><td>3.044</td><td>0.172</td><td> 0.699</td><td> 0.095</td><td> 0.117</td><td> 0.084</td><td> 0.113</td><td> 0.093</td></tr>\n",
              "\t<tr><th scope=row>Deptor</th><td>0.158</td><td>0.034</td><td>0.110</td><td>0.026</td><td>0.040</td><td>0.032</td><td>0.186</td><td>0.031</td><td>0.292</td><td>0.023</td><td>⋯</td><td> 0.042</td><td>0.052</td><td>0.065</td><td>0.045</td><td> 0.032</td><td> 0.037</td><td> 0.046</td><td> 0.038</td><td> 0.039</td><td> 0.037</td></tr>\n",
              "\t<tr><th scope=row>C130030K03Rik</th><td>0.023</td><td>0.020</td><td>0.015</td><td>0.014</td><td>0.026</td><td>0.277</td><td>0.025</td><td>0.026</td><td>0.032</td><td>0.322</td><td>⋯</td><td> 0.133</td><td>0.133</td><td>0.070</td><td>0.057</td><td> 0.180</td><td> 0.198</td><td> 0.160</td><td> 0.184</td><td> 0.194</td><td> 0.156</td></tr>\n",
              "\t<tr><th scope=row>Klhl13</th><td>0.571</td><td>0.323</td><td>0.131</td><td>0.064</td><td>0.115</td><td>0.456</td><td>1.235</td><td>1.265</td><td>3.056</td><td>2.272</td><td>⋯</td><td> 0.402</td><td>0.526</td><td>0.321</td><td>0.682</td><td> 2.426</td><td> 0.818</td><td> 1.502</td><td> 0.544</td><td> 0.686</td><td> 0.463</td></tr>\n",
              "\t<tr><th scope=row>Tnfaip8l3</th><td>0.035</td><td>0.051</td><td>0.041</td><td>0.060</td><td>0.030</td><td>0.097</td><td>0.049</td><td>0.113</td><td>0.058</td><td>0.418</td><td>⋯</td><td> 0.131</td><td>0.145</td><td>0.151</td><td>0.196</td><td> 0.173</td><td> 0.229</td><td> 0.189</td><td> 0.120</td><td> 0.133</td><td> 0.155</td></tr>\n",
              "\t<tr><th scope=row>Ascl1</th><td>0.013</td><td>0.014</td><td>0.014</td><td>0.010</td><td>0.024</td><td>0.120</td><td>0.014</td><td>0.022</td><td>0.025</td><td>0.544</td><td>⋯</td><td> 0.076</td><td>0.045</td><td>0.019</td><td>0.030</td><td> 0.073</td><td> 0.040</td><td> 0.041</td><td> 0.065</td><td> 0.056</td><td> 0.052</td></tr>\n",
              "\t<tr><th scope=row>Atp1b2</th><td>1.396</td><td>0.754</td><td>0.812</td><td>0.636</td><td>1.175</td><td>1.414</td><td>0.109</td><td>0.714</td><td>1.322</td><td>0.690</td><td>⋯</td><td> 1.205</td><td>1.818</td><td>0.436</td><td>1.368</td><td> 6.284</td><td> 6.273</td><td> 1.864</td><td> 2.074</td><td> 9.591</td><td> 7.999</td></tr>\n",
              "\t<tr><th scope=row>Tmem132e</th><td>0.093</td><td>0.059</td><td>0.099</td><td>0.131</td><td>0.078</td><td>0.154</td><td>0.135</td><td>0.127</td><td>0.148</td><td>0.115</td><td>⋯</td><td> 0.027</td><td>0.134</td><td>0.101</td><td>0.079</td><td> 0.030</td><td> 0.031</td><td> 0.023</td><td> 0.023</td><td> 0.022</td><td> 0.051</td></tr>\n",
              "\t<tr><th scope=row>Prkar2b</th><td>0.903</td><td>0.259</td><td>1.435</td><td>0.518</td><td>3.912</td><td>0.499</td><td>2.102</td><td>0.437</td><td>3.690</td><td>0.477</td><td>⋯</td><td> 0.476</td><td>2.208</td><td>0.197</td><td>0.926</td><td> 1.365</td><td> 0.287</td><td> 0.338</td><td> 0.325</td><td> 0.352</td><td> 0.347</td></tr>\n",
              "\t<tr><th scope=row>Necab1</th><td>2.218</td><td>0.131</td><td>3.225</td><td>0.252</td><td>0.653</td><td>0.120</td><td>1.593</td><td>0.350</td><td>1.335</td><td>0.479</td><td>⋯</td><td> 1.649</td><td>0.173</td><td>1.178</td><td>0.249</td><td> 0.252</td><td> 0.213</td><td> 0.330</td><td> 0.229</td><td> 0.247</td><td> 0.189</td></tr>\n",
              "\t<tr><th scope=row>Nr2f2</th><td>0.031</td><td>2.783</td><td>0.320</td><td>1.730</td><td>0.957</td><td>4.529</td><td>0.427</td><td>2.507</td><td>0.186</td><td>2.394</td><td>⋯</td><td> 0.444</td><td>1.032</td><td>0.943</td><td>3.465</td><td> 0.829</td><td> 4.744</td><td> 1.127</td><td> 0.822</td><td> 1.127</td><td> 1.140</td></tr>\n",
              "\t<tr><th scope=row>Stmn1-rs1</th><td>0.476</td><td>0.094</td><td>0.051</td><td>0.284</td><td>0.342</td><td>0.368</td><td>0.886</td><td>0.107</td><td>0.458</td><td>0.484</td><td>⋯</td><td> 0.137</td><td>0.256</td><td>0.159</td><td>0.140</td><td> 0.147</td><td> 0.155</td><td> 0.139</td><td> 0.201</td><td> 0.183</td><td> 0.230</td></tr>\n",
              "\t<tr><th scope=row>Shisa9</th><td>0.997</td><td>0.560</td><td>0.767</td><td>0.521</td><td>0.277</td><td>0.646</td><td>1.273</td><td>0.482</td><td>0.596</td><td>0.451</td><td>⋯</td><td> 0.142</td><td>0.742</td><td>0.805</td><td>1.079</td><td> 0.200</td><td> 0.196</td><td> 0.161</td><td> 0.126</td><td> 0.227</td><td> 0.207</td></tr>\n",
              "\t<tr><th scope=row>Sub1</th><td>4.793</td><td>5.890</td><td>5.570</td><td>3.157</td><td>5.997</td><td>2.018</td><td>5.086</td><td>3.455</td><td>6.463</td><td>5.476</td><td>⋯</td><td>18.858</td><td>9.714</td><td>9.300</td><td>5.299</td><td>18.569</td><td>18.162</td><td>27.228</td><td>13.500</td><td>14.530</td><td>10.231</td></tr>\n",
              "\t<tr><th scope=row>Vat1l</th><td>0.010</td><td>0.016</td><td>0.020</td><td>0.016</td><td>0.072</td><td>0.033</td><td>0.712</td><td>0.039</td><td>0.442</td><td>0.036</td><td>⋯</td><td> 0.086</td><td>0.045</td><td>0.049</td><td>0.041</td><td> 0.065</td><td> 0.060</td><td> 0.061</td><td> 0.074</td><td> 0.058</td><td> 0.057</td></tr>\n",
              "\t<tr><th scope=row>Pcdh18</th><td>0.019</td><td>0.080</td><td>0.006</td><td>0.010</td><td>0.029</td><td>0.307</td><td>0.016</td><td>0.185</td><td>0.493</td><td>0.865</td><td>⋯</td><td> 0.139</td><td>0.237</td><td>0.036</td><td>0.056</td><td> 0.258</td><td> 0.917</td><td> 3.070</td><td> 0.454</td><td> 0.264</td><td> 0.351</td></tr>\n",
              "\t<tr><th scope=row>Dpysl5</th><td>0.199</td><td>0.032</td><td>0.236</td><td>0.106</td><td>0.221</td><td>0.424</td><td>0.092</td><td>0.378</td><td>0.215</td><td>0.746</td><td>⋯</td><td> 0.089</td><td>0.492</td><td>0.178</td><td>0.117</td><td> 0.379</td><td> 0.618</td><td> 0.185</td><td> 0.196</td><td> 0.290</td><td> 0.143</td></tr>\n",
              "\t<tr><th scope=row>Agtr2</th><td>0.003</td><td>0.003</td><td>0.002</td><td>0.002</td><td>0.003</td><td>0.003</td><td>0.003</td><td>0.003</td><td>0.004</td><td>0.003</td><td>⋯</td><td> 0.007</td><td>0.007</td><td>0.006</td><td>0.005</td><td> 0.008</td><td> 0.008</td><td> 0.008</td><td> 0.008</td><td> 0.008</td><td> 0.008</td></tr>\n",
              "\t<tr><th scope=row>Cxcl14</th><td>3.849</td><td>2.558</td><td>2.567</td><td>8.984</td><td>0.028</td><td>3.603</td><td>5.275</td><td>2.021</td><td>0.634</td><td>1.765</td><td>⋯</td><td> 1.739</td><td>0.591</td><td>2.217</td><td>8.273</td><td> 0.717</td><td> 1.660</td><td> 0.186</td><td> 0.403</td><td> 3.434</td><td> 1.195</td></tr>\n",
              "\t<tr><th scope=row>⋮</th><td>⋮</td><td>⋮</td><td>⋮</td><td>⋮</td><td>⋮</td><td>⋮</td><td>⋮</td><td>⋮</td><td>⋮</td><td>⋮</td><td>⋱</td><td>⋮</td><td>⋮</td><td>⋮</td><td>⋮</td><td>⋮</td><td>⋮</td><td>⋮</td><td>⋮</td><td>⋮</td><td>⋮</td></tr>\n",
              "\t<tr><th scope=row>Capn5</th><td>0.555</td><td>0.043</td><td>0.026</td><td>0.035</td><td>0.051</td><td>0.056</td><td> 0.057</td><td>0.051</td><td>0.094</td><td>0.042</td><td>⋯</td><td>0.539</td><td> 0.725</td><td>0.313</td><td>0.133</td><td>1.019</td><td>1.021</td><td>1.122</td><td>1.274</td><td>1.100</td><td>1.097</td></tr>\n",
              "\t<tr><th scope=row>Osbpl5</th><td>0.039</td><td>0.269</td><td>0.023</td><td>0.024</td><td>0.358</td><td>0.271</td><td> 0.472</td><td>0.045</td><td>0.047</td><td>0.039</td><td>⋯</td><td>0.185</td><td> 0.314</td><td>0.096</td><td>0.089</td><td>0.277</td><td>0.243</td><td>0.188</td><td>0.282</td><td>0.346</td><td>0.288</td></tr>\n",
              "\t<tr><th scope=row>Nrtn</th><td>0.006</td><td>0.020</td><td>0.013</td><td>0.746</td><td>0.026</td><td>0.158</td><td> 0.177</td><td>0.206</td><td>0.008</td><td>0.216</td><td>⋯</td><td>0.031</td><td> 0.112</td><td>0.082</td><td>0.013</td><td>0.041</td><td>0.042</td><td>0.034</td><td>0.036</td><td>0.041</td><td>0.026</td></tr>\n",
              "\t<tr><th scope=row>Nr2f1</th><td>2.218</td><td>1.508</td><td>1.092</td><td>0.846</td><td>2.593</td><td>0.769</td><td> 2.674</td><td>0.453</td><td>0.499</td><td>2.157</td><td>⋯</td><td>1.336</td><td> 6.727</td><td>0.620</td><td>1.008</td><td>3.579</td><td>1.768</td><td>1.311</td><td>1.439</td><td>5.533</td><td>4.035</td></tr>\n",
              "\t<tr><th scope=row>Galnt14</th><td>0.644</td><td>0.298</td><td>0.051</td><td>0.617</td><td>0.062</td><td>0.175</td><td> 1.523</td><td>0.726</td><td>0.276</td><td>0.633</td><td>⋯</td><td>0.072</td><td> 0.106</td><td>0.566</td><td>0.109</td><td>0.032</td><td>0.048</td><td>0.059</td><td>0.047</td><td>0.029</td><td>0.037</td></tr>\n",
              "\t<tr><th scope=row>Slc35f1</th><td>0.132</td><td>0.256</td><td>0.865</td><td>0.182</td><td>1.582</td><td>0.701</td><td> 0.251</td><td>0.888</td><td>0.806</td><td>0.287</td><td>⋯</td><td>0.284</td><td> 1.395</td><td>0.416</td><td>0.358</td><td>0.371</td><td>0.335</td><td>0.257</td><td>0.202</td><td>0.267</td><td>0.266</td></tr>\n",
              "\t<tr><th scope=row>Mmgt1</th><td>0.206</td><td>0.272</td><td>0.049</td><td>0.047</td><td>0.258</td><td>0.074</td><td> 0.083</td><td>0.222</td><td>0.089</td><td>0.171</td><td>⋯</td><td>0.606</td><td> 0.682</td><td>0.289</td><td>0.156</td><td>0.993</td><td>1.280</td><td>0.968</td><td>1.327</td><td>1.457</td><td>0.888</td></tr>\n",
              "\t<tr><th scope=row>Htr7</th><td>0.013</td><td>0.011</td><td>0.009</td><td>0.171</td><td>0.871</td><td>0.012</td><td> 0.014</td><td>0.303</td><td>0.017</td><td>0.014</td><td>⋯</td><td>0.043</td><td> 0.043</td><td>0.031</td><td>0.027</td><td>0.047</td><td>0.048</td><td>0.046</td><td>0.048</td><td>0.048</td><td>0.046</td></tr>\n",
              "\t<tr><th scope=row>E130309F12Rik</th><td>0.222</td><td>0.182</td><td>0.403</td><td>0.243</td><td>0.223</td><td>0.125</td><td> 0.163</td><td>0.294</td><td>0.171</td><td>0.137</td><td>⋯</td><td>0.097</td><td> 0.116</td><td>0.361</td><td>0.304</td><td>0.106</td><td>0.098</td><td>0.088</td><td>0.065</td><td>0.069</td><td>0.049</td></tr>\n",
              "\t<tr><th scope=row>Wtap</th><td>0.777</td><td>0.416</td><td>0.069</td><td>0.064</td><td>0.597</td><td>0.306</td><td> 0.410</td><td>0.114</td><td>0.148</td><td>0.374</td><td>⋯</td><td>1.458</td><td> 0.661</td><td>0.623</td><td>0.852</td><td>0.797</td><td>0.803</td><td>1.677</td><td>1.949</td><td>0.877</td><td>0.805</td></tr>\n",
              "\t<tr><th scope=row>Racgap1</th><td>0.021</td><td>0.018</td><td>0.014</td><td>0.165</td><td>0.023</td><td>0.019</td><td> 0.022</td><td>0.150</td><td>0.175</td><td>0.021</td><td>⋯</td><td>0.055</td><td> 0.055</td><td>0.043</td><td>0.038</td><td>0.058</td><td>0.059</td><td>0.057</td><td>0.059</td><td>0.059</td><td>0.057</td></tr>\n",
              "\t<tr><th scope=row>Arhgap24</th><td>0.128</td><td>0.061</td><td>0.043</td><td>0.138</td><td>0.040</td><td>0.104</td><td> 0.100</td><td>0.106</td><td>0.086</td><td>0.067</td><td>⋯</td><td>0.043</td><td> 0.064</td><td>0.042</td><td>0.131</td><td>0.065</td><td>0.079</td><td>0.040</td><td>0.058</td><td>0.067</td><td>0.053</td></tr>\n",
              "\t<tr><th scope=row>Maml3</th><td>0.026</td><td>0.023</td><td>0.261</td><td>0.016</td><td>0.029</td><td>1.482</td><td> 0.030</td><td>0.029</td><td>0.249</td><td>0.299</td><td>⋯</td><td>0.160</td><td> 2.037</td><td>0.074</td><td>0.064</td><td>0.272</td><td>0.263</td><td>1.259</td><td>0.285</td><td>0.252</td><td>0.308</td></tr>\n",
              "\t<tr><th scope=row>Gng2</th><td>0.942</td><td>0.900</td><td>2.555</td><td>1.197</td><td>2.560</td><td>1.574</td><td> 1.740</td><td>1.283</td><td>1.387</td><td>2.438</td><td>⋯</td><td>0.590</td><td> 0.864</td><td>1.021</td><td>4.068</td><td>0.973</td><td>0.980</td><td>2.956</td><td>0.636</td><td>0.695</td><td>5.968</td></tr>\n",
              "\t<tr><th scope=row>Tnc</th><td>0.007</td><td>0.009</td><td>0.007</td><td>0.007</td><td>0.008</td><td>0.011</td><td> 0.004</td><td>0.013</td><td>0.010</td><td>0.008</td><td>⋯</td><td>0.062</td><td> 0.058</td><td>0.031</td><td>0.025</td><td>0.084</td><td>0.119</td><td>0.081</td><td>0.090</td><td>0.126</td><td>0.126</td></tr>\n",
              "\t<tr><th scope=row>Fndc3a</th><td>0.166</td><td>0.058</td><td>0.301</td><td>0.286</td><td>0.259</td><td>0.069</td><td> 0.240</td><td>1.250</td><td>0.099</td><td>0.077</td><td>⋯</td><td>1.618</td><td> 0.761</td><td>0.215</td><td>0.170</td><td>0.961</td><td>1.108</td><td>2.070</td><td>1.073</td><td>1.084</td><td>0.963</td></tr>\n",
              "\t<tr><th scope=row>Npas3</th><td>0.200</td><td>0.157</td><td>1.111</td><td>0.563</td><td>0.130</td><td>1.099</td><td> 0.090</td><td>1.654</td><td>0.082</td><td>0.997</td><td>⋯</td><td>0.456</td><td> 1.188</td><td>0.547</td><td>0.573</td><td>1.262</td><td>1.792</td><td>0.688</td><td>0.881</td><td>1.899</td><td>1.243</td></tr>\n",
              "\t<tr><th scope=row>Celf6</th><td>0.490</td><td>0.103</td><td>0.807</td><td>0.330</td><td>0.699</td><td>0.299</td><td> 0.490</td><td>0.552</td><td>0.769</td><td>0.463</td><td>⋯</td><td>0.110</td><td> 0.390</td><td>0.164</td><td>0.651</td><td>0.232</td><td>0.277</td><td>0.163</td><td>0.178</td><td>0.203</td><td>0.194</td></tr>\n",
              "\t<tr><th scope=row>Inpp4b</th><td>0.004</td><td>0.071</td><td>0.086</td><td>0.013</td><td>0.019</td><td>0.026</td><td> 0.012</td><td>0.013</td><td>0.036</td><td>0.031</td><td>⋯</td><td>0.141</td><td> 0.315</td><td>0.035</td><td>0.048</td><td>0.262</td><td>6.495</td><td>2.898</td><td>0.390</td><td>0.222</td><td>0.178</td></tr>\n",
              "\t<tr><th scope=row>Npas1</th><td>0.061</td><td>0.019</td><td>1.288</td><td>0.379</td><td>1.258</td><td>1.674</td><td> 0.987</td><td>1.881</td><td>0.851</td><td>1.124</td><td>⋯</td><td>0.059</td><td> 0.452</td><td>0.118</td><td>0.504</td><td>0.126</td><td>0.123</td><td>0.031</td><td>0.076</td><td>0.078</td><td>0.172</td></tr>\n",
              "\t<tr><th scope=row>Ache</th><td>0.343</td><td>0.338</td><td>0.518</td><td>0.700</td><td>1.055</td><td>0.447</td><td> 0.580</td><td>0.306</td><td>0.535</td><td>0.500</td><td>⋯</td><td>0.130</td><td> 0.215</td><td>0.292</td><td>0.754</td><td>0.097</td><td>0.081</td><td>0.093</td><td>0.084</td><td>0.077</td><td>0.089</td></tr>\n",
              "\t<tr><th scope=row>Clnk</th><td>0.016</td><td>0.023</td><td>0.161</td><td>0.217</td><td>0.006</td><td>0.043</td><td> 0.007</td><td>0.046</td><td>0.024</td><td>0.010</td><td>⋯</td><td>0.005</td><td> 0.006</td><td>0.036</td><td>0.034</td><td>0.005</td><td>0.007</td><td>0.005</td><td>0.004</td><td>0.003</td><td>0.007</td></tr>\n",
              "\t<tr><th scope=row>Sel1l3</th><td>0.076</td><td>2.842</td><td>0.340</td><td>1.214</td><td>0.524</td><td>0.174</td><td> 1.334</td><td>0.216</td><td>0.339</td><td>0.347</td><td>⋯</td><td>0.529</td><td> 1.108</td><td>0.696</td><td>0.180</td><td>0.645</td><td>0.773</td><td>0.864</td><td>0.470</td><td>0.585</td><td>0.512</td></tr>\n",
              "\t<tr><th scope=row>Adarb2</th><td>0.471</td><td>0.584</td><td>0.581</td><td>0.344</td><td>0.303</td><td>0.708</td><td> 0.308</td><td>0.559</td><td>0.523</td><td>0.487</td><td>⋯</td><td>0.014</td><td> 0.534</td><td>0.855</td><td>0.365</td><td>0.024</td><td>0.036</td><td>0.013</td><td>0.016</td><td>0.015</td><td>0.046</td></tr>\n",
              "\t<tr><th scope=row>Nrxn3</th><td>3.870</td><td>1.575</td><td>8.587</td><td>2.681</td><td>5.697</td><td>4.754</td><td>10.585</td><td>8.278</td><td>9.241</td><td>6.795</td><td>⋯</td><td>5.313</td><td>10.975</td><td>3.742</td><td>3.144</td><td>8.091</td><td>3.290</td><td>2.252</td><td>1.943</td><td>3.309</td><td>2.213</td></tr>\n",
              "\t<tr><th scope=row>Fam211b</th><td>0.028</td><td>0.163</td><td>0.018</td><td>0.016</td><td>0.031</td><td>0.373</td><td> 0.028</td><td>0.027</td><td>0.606</td><td>0.020</td><td>⋯</td><td>0.086</td><td> 0.173</td><td>0.060</td><td>0.042</td><td>0.191</td><td>0.233</td><td>0.116</td><td>0.161</td><td>0.212</td><td>0.180</td></tr>\n",
              "\t<tr><th scope=row>Akap7</th><td>1.330</td><td>0.073</td><td>0.053</td><td>0.504</td><td>0.271</td><td>1.185</td><td> 1.107</td><td>1.150</td><td>0.817</td><td>4.515</td><td>⋯</td><td>0.625</td><td> 0.812</td><td>0.267</td><td>0.239</td><td>0.842</td><td>0.740</td><td>0.659</td><td>0.787</td><td>0.950</td><td>0.758</td></tr>\n",
              "\t<tr><th scope=row>Chrna4</th><td>0.982</td><td>0.657</td><td>1.852</td><td>1.857</td><td>1.817</td><td>1.624</td><td> 0.833</td><td>1.225</td><td>3.825</td><td>1.669</td><td>⋯</td><td>0.057</td><td> 0.224</td><td>0.049</td><td>0.447</td><td>0.083</td><td>0.075</td><td>0.054</td><td>0.058</td><td>0.056</td><td>0.055</td></tr>\n",
              "\t<tr><th scope=row>Ugp2</th><td>0.565</td><td>0.353</td><td>0.379</td><td>0.222</td><td>0.730</td><td>0.756</td><td> 0.166</td><td>0.296</td><td>0.426</td><td>0.222</td><td>⋯</td><td>1.066</td><td> 1.623</td><td>0.492</td><td>0.342</td><td>2.910</td><td>2.712</td><td>2.233</td><td>2.080</td><td>3.471</td><td>2.355</td></tr>\n",
              "\t<tr><th scope=row>Tmem242</th><td>0.621</td><td>0.064</td><td>0.040</td><td>0.043</td><td>0.068</td><td>0.181</td><td> 0.080</td><td>0.517</td><td>0.999</td><td>0.201</td><td>⋯</td><td>0.663</td><td> 0.430</td><td>2.792</td><td>0.759</td><td>0.773</td><td>0.956</td><td>0.889</td><td>1.208</td><td>1.041</td><td>5.694</td></tr>\n",
              "</tbody>\n",
              "</table>\n"
            ],
            "text/markdown": "\nA matrix: 100 × 3005 of type dbl\n\n| <!--/--> | 1772071015_C02 | 1772071017_G12 | 1772071017_A05 | 1772071014_B06 | 1772067065_H06 | 1772071017_E02 | 1772067065_B07 | 1772067060_B09 | 1772071014_E04 | 1772071015_D04 | ⋯ | 1772066110_D12 | 1772071017_A07 | 1772063071_G10 | 1772058148_C03 | 1772063061_D09 | 1772067059_B04 | 1772066097_D04 | 1772063068_D01 | 1772066098_A12 | 1772058148_F03 |\n|---|---|---|---|---|---|---|---|---|---|---|---|---|---|---|---|---|---|---|---|---|---|\n| Tspan12 | 0.040 | 0.037 | 0.027 | 0.271 | 0.049 | 0.039 | 0.455 | 0.045 | 0.064 | 0.045 | ⋯ |  0.314 | 0.408 | 0.136 | 0.117 |  0.495 |  0.577 |  0.567 |  0.668 |  0.708 |  2.637 |\n| Tshz1 | 0.516 | 0.158 | 0.026 | 0.193 | 0.335 | 0.295 | 0.375 | 0.178 | 0.064 | 0.352 | ⋯ |  0.420 | 0.593 | 0.158 | 0.121 |  0.645 |  0.628 |  0.529 |  0.881 |  0.951 |  3.301 |\n| Fnbp1l | 0.533 | 0.185 | 0.564 | 0.368 | 0.332 | 0.351 | 0.309 | 0.131 | 1.419 | 0.462 | ⋯ |  0.710 | 1.016 | 0.340 | 0.215 |  1.276 |  1.266 |  1.087 |  0.983 |  1.225 |  1.366 |\n| Adamts15 | 0.006 | 0.008 | 0.004 | 0.005 | 0.008 | 0.009 | 0.007 | 0.011 | 0.011 | 0.010 | ⋯ |  0.043 | 0.100 | 0.023 | 0.026 |  0.076 |  0.172 |  0.083 |  0.123 |  0.118 |  0.140 |\n| Cldn12 | 0.212 | 0.177 | 0.118 | 0.038 | 0.074 | 0.053 | 0.071 | 0.067 | 0.470 | 0.450 | ⋯ |  0.372 | 0.466 | 0.158 | 0.132 |  0.570 |  0.564 |  0.463 |  0.558 |  0.673 |  0.493 |\n| Rxfp1 | 0.015 | 0.025 | 0.012 | 0.016 | 0.018 | 0.137 | 0.019 | 0.021 | 0.179 | 0.026 | ⋯ |  0.022 | 0.023 | 0.035 | 0.551 |  0.015 |  0.016 |  0.023 |  0.016 |  0.014 |  0.023 |\n| 2310042E22Rik | 0.035 | 0.140 | 0.199 | 0.302 | 0.026 | 0.066 | 0.041 | 0.029 | 0.012 | 0.028 | ⋯ |  0.006 | 0.013 | 1.903 | 0.058 |  0.003 |  0.005 |  0.005 |  0.003 |  0.003 |  0.004 |\n| Sema3c | 1.871 | 0.029 | 2.407 | 0.180 | 1.838 | 0.067 | 1.280 | 0.086 | 2.125 | 4.717 | ⋯ |  0.283 | 0.867 | 1.019 | 0.201 |  1.162 |  1.201 |  1.009 |  0.968 |  1.283 |  2.106 |\n| Jam2 | 0.190 | 0.011 | 0.128 | 0.011 | 0.028 | 0.139 | 0.019 | 0.015 | 0.252 | 0.083 | ⋯ |  0.401 | 0.417 | 0.137 | 0.085 |  1.063 |  1.274 |  1.241 |  1.003 |  2.191 |  1.847 |\n| Apbb1ip | 0.003 | 0.010 | 0.012 | 0.013 | 0.018 | 0.011 | 0.163 | 0.030 | 0.006 | 0.021 | ⋯ |  0.059 | 0.091 | 0.045 | 0.033 |  0.126 |  0.185 |  0.182 |  0.177 |  0.202 |  0.098 |\n| Frem2 | 0.005 | 0.013 | 0.008 | 0.009 | 0.014 | 0.014 | 0.012 | 0.201 | 0.009 | 0.008 | ⋯ |  0.078 | 0.113 | 0.050 | 0.022 |  0.162 |  0.196 |  0.123 |  0.153 |  0.181 |  0.157 |\n| BC005764 | 0.106 | 0.443 | 0.141 | 0.070 | 0.101 | 0.360 | 0.537 | 0.739 | 0.110 | 0.117 | ⋯ |  0.131 | 0.691 | 3.044 | 0.172 |  0.699 |  0.095 |  0.117 |  0.084 |  0.113 |  0.093 |\n| Deptor | 0.158 | 0.034 | 0.110 | 0.026 | 0.040 | 0.032 | 0.186 | 0.031 | 0.292 | 0.023 | ⋯ |  0.042 | 0.052 | 0.065 | 0.045 |  0.032 |  0.037 |  0.046 |  0.038 |  0.039 |  0.037 |\n| C130030K03Rik | 0.023 | 0.020 | 0.015 | 0.014 | 0.026 | 0.277 | 0.025 | 0.026 | 0.032 | 0.322 | ⋯ |  0.133 | 0.133 | 0.070 | 0.057 |  0.180 |  0.198 |  0.160 |  0.184 |  0.194 |  0.156 |\n| Klhl13 | 0.571 | 0.323 | 0.131 | 0.064 | 0.115 | 0.456 | 1.235 | 1.265 | 3.056 | 2.272 | ⋯ |  0.402 | 0.526 | 0.321 | 0.682 |  2.426 |  0.818 |  1.502 |  0.544 |  0.686 |  0.463 |\n| Tnfaip8l3 | 0.035 | 0.051 | 0.041 | 0.060 | 0.030 | 0.097 | 0.049 | 0.113 | 0.058 | 0.418 | ⋯ |  0.131 | 0.145 | 0.151 | 0.196 |  0.173 |  0.229 |  0.189 |  0.120 |  0.133 |  0.155 |\n| Ascl1 | 0.013 | 0.014 | 0.014 | 0.010 | 0.024 | 0.120 | 0.014 | 0.022 | 0.025 | 0.544 | ⋯ |  0.076 | 0.045 | 0.019 | 0.030 |  0.073 |  0.040 |  0.041 |  0.065 |  0.056 |  0.052 |\n| Atp1b2 | 1.396 | 0.754 | 0.812 | 0.636 | 1.175 | 1.414 | 0.109 | 0.714 | 1.322 | 0.690 | ⋯ |  1.205 | 1.818 | 0.436 | 1.368 |  6.284 |  6.273 |  1.864 |  2.074 |  9.591 |  7.999 |\n| Tmem132e | 0.093 | 0.059 | 0.099 | 0.131 | 0.078 | 0.154 | 0.135 | 0.127 | 0.148 | 0.115 | ⋯ |  0.027 | 0.134 | 0.101 | 0.079 |  0.030 |  0.031 |  0.023 |  0.023 |  0.022 |  0.051 |\n| Prkar2b | 0.903 | 0.259 | 1.435 | 0.518 | 3.912 | 0.499 | 2.102 | 0.437 | 3.690 | 0.477 | ⋯ |  0.476 | 2.208 | 0.197 | 0.926 |  1.365 |  0.287 |  0.338 |  0.325 |  0.352 |  0.347 |\n| Necab1 | 2.218 | 0.131 | 3.225 | 0.252 | 0.653 | 0.120 | 1.593 | 0.350 | 1.335 | 0.479 | ⋯ |  1.649 | 0.173 | 1.178 | 0.249 |  0.252 |  0.213 |  0.330 |  0.229 |  0.247 |  0.189 |\n| Nr2f2 | 0.031 | 2.783 | 0.320 | 1.730 | 0.957 | 4.529 | 0.427 | 2.507 | 0.186 | 2.394 | ⋯ |  0.444 | 1.032 | 0.943 | 3.465 |  0.829 |  4.744 |  1.127 |  0.822 |  1.127 |  1.140 |\n| Stmn1-rs1 | 0.476 | 0.094 | 0.051 | 0.284 | 0.342 | 0.368 | 0.886 | 0.107 | 0.458 | 0.484 | ⋯ |  0.137 | 0.256 | 0.159 | 0.140 |  0.147 |  0.155 |  0.139 |  0.201 |  0.183 |  0.230 |\n| Shisa9 | 0.997 | 0.560 | 0.767 | 0.521 | 0.277 | 0.646 | 1.273 | 0.482 | 0.596 | 0.451 | ⋯ |  0.142 | 0.742 | 0.805 | 1.079 |  0.200 |  0.196 |  0.161 |  0.126 |  0.227 |  0.207 |\n| Sub1 | 4.793 | 5.890 | 5.570 | 3.157 | 5.997 | 2.018 | 5.086 | 3.455 | 6.463 | 5.476 | ⋯ | 18.858 | 9.714 | 9.300 | 5.299 | 18.569 | 18.162 | 27.228 | 13.500 | 14.530 | 10.231 |\n| Vat1l | 0.010 | 0.016 | 0.020 | 0.016 | 0.072 | 0.033 | 0.712 | 0.039 | 0.442 | 0.036 | ⋯ |  0.086 | 0.045 | 0.049 | 0.041 |  0.065 |  0.060 |  0.061 |  0.074 |  0.058 |  0.057 |\n| Pcdh18 | 0.019 | 0.080 | 0.006 | 0.010 | 0.029 | 0.307 | 0.016 | 0.185 | 0.493 | 0.865 | ⋯ |  0.139 | 0.237 | 0.036 | 0.056 |  0.258 |  0.917 |  3.070 |  0.454 |  0.264 |  0.351 |\n| Dpysl5 | 0.199 | 0.032 | 0.236 | 0.106 | 0.221 | 0.424 | 0.092 | 0.378 | 0.215 | 0.746 | ⋯ |  0.089 | 0.492 | 0.178 | 0.117 |  0.379 |  0.618 |  0.185 |  0.196 |  0.290 |  0.143 |\n| Agtr2 | 0.003 | 0.003 | 0.002 | 0.002 | 0.003 | 0.003 | 0.003 | 0.003 | 0.004 | 0.003 | ⋯ |  0.007 | 0.007 | 0.006 | 0.005 |  0.008 |  0.008 |  0.008 |  0.008 |  0.008 |  0.008 |\n| Cxcl14 | 3.849 | 2.558 | 2.567 | 8.984 | 0.028 | 3.603 | 5.275 | 2.021 | 0.634 | 1.765 | ⋯ |  1.739 | 0.591 | 2.217 | 8.273 |  0.717 |  1.660 |  0.186 |  0.403 |  3.434 |  1.195 |\n| ⋮ | ⋮ | ⋮ | ⋮ | ⋮ | ⋮ | ⋮ | ⋮ | ⋮ | ⋮ | ⋮ | ⋱ | ⋮ | ⋮ | ⋮ | ⋮ | ⋮ | ⋮ | ⋮ | ⋮ | ⋮ | ⋮ |\n| Capn5 | 0.555 | 0.043 | 0.026 | 0.035 | 0.051 | 0.056 |  0.057 | 0.051 | 0.094 | 0.042 | ⋯ | 0.539 |  0.725 | 0.313 | 0.133 | 1.019 | 1.021 | 1.122 | 1.274 | 1.100 | 1.097 |\n| Osbpl5 | 0.039 | 0.269 | 0.023 | 0.024 | 0.358 | 0.271 |  0.472 | 0.045 | 0.047 | 0.039 | ⋯ | 0.185 |  0.314 | 0.096 | 0.089 | 0.277 | 0.243 | 0.188 | 0.282 | 0.346 | 0.288 |\n| Nrtn | 0.006 | 0.020 | 0.013 | 0.746 | 0.026 | 0.158 |  0.177 | 0.206 | 0.008 | 0.216 | ⋯ | 0.031 |  0.112 | 0.082 | 0.013 | 0.041 | 0.042 | 0.034 | 0.036 | 0.041 | 0.026 |\n| Nr2f1 | 2.218 | 1.508 | 1.092 | 0.846 | 2.593 | 0.769 |  2.674 | 0.453 | 0.499 | 2.157 | ⋯ | 1.336 |  6.727 | 0.620 | 1.008 | 3.579 | 1.768 | 1.311 | 1.439 | 5.533 | 4.035 |\n| Galnt14 | 0.644 | 0.298 | 0.051 | 0.617 | 0.062 | 0.175 |  1.523 | 0.726 | 0.276 | 0.633 | ⋯ | 0.072 |  0.106 | 0.566 | 0.109 | 0.032 | 0.048 | 0.059 | 0.047 | 0.029 | 0.037 |\n| Slc35f1 | 0.132 | 0.256 | 0.865 | 0.182 | 1.582 | 0.701 |  0.251 | 0.888 | 0.806 | 0.287 | ⋯ | 0.284 |  1.395 | 0.416 | 0.358 | 0.371 | 0.335 | 0.257 | 0.202 | 0.267 | 0.266 |\n| Mmgt1 | 0.206 | 0.272 | 0.049 | 0.047 | 0.258 | 0.074 |  0.083 | 0.222 | 0.089 | 0.171 | ⋯ | 0.606 |  0.682 | 0.289 | 0.156 | 0.993 | 1.280 | 0.968 | 1.327 | 1.457 | 0.888 |\n| Htr7 | 0.013 | 0.011 | 0.009 | 0.171 | 0.871 | 0.012 |  0.014 | 0.303 | 0.017 | 0.014 | ⋯ | 0.043 |  0.043 | 0.031 | 0.027 | 0.047 | 0.048 | 0.046 | 0.048 | 0.048 | 0.046 |\n| E130309F12Rik | 0.222 | 0.182 | 0.403 | 0.243 | 0.223 | 0.125 |  0.163 | 0.294 | 0.171 | 0.137 | ⋯ | 0.097 |  0.116 | 0.361 | 0.304 | 0.106 | 0.098 | 0.088 | 0.065 | 0.069 | 0.049 |\n| Wtap | 0.777 | 0.416 | 0.069 | 0.064 | 0.597 | 0.306 |  0.410 | 0.114 | 0.148 | 0.374 | ⋯ | 1.458 |  0.661 | 0.623 | 0.852 | 0.797 | 0.803 | 1.677 | 1.949 | 0.877 | 0.805 |\n| Racgap1 | 0.021 | 0.018 | 0.014 | 0.165 | 0.023 | 0.019 |  0.022 | 0.150 | 0.175 | 0.021 | ⋯ | 0.055 |  0.055 | 0.043 | 0.038 | 0.058 | 0.059 | 0.057 | 0.059 | 0.059 | 0.057 |\n| Arhgap24 | 0.128 | 0.061 | 0.043 | 0.138 | 0.040 | 0.104 |  0.100 | 0.106 | 0.086 | 0.067 | ⋯ | 0.043 |  0.064 | 0.042 | 0.131 | 0.065 | 0.079 | 0.040 | 0.058 | 0.067 | 0.053 |\n| Maml3 | 0.026 | 0.023 | 0.261 | 0.016 | 0.029 | 1.482 |  0.030 | 0.029 | 0.249 | 0.299 | ⋯ | 0.160 |  2.037 | 0.074 | 0.064 | 0.272 | 0.263 | 1.259 | 0.285 | 0.252 | 0.308 |\n| Gng2 | 0.942 | 0.900 | 2.555 | 1.197 | 2.560 | 1.574 |  1.740 | 1.283 | 1.387 | 2.438 | ⋯ | 0.590 |  0.864 | 1.021 | 4.068 | 0.973 | 0.980 | 2.956 | 0.636 | 0.695 | 5.968 |\n| Tnc | 0.007 | 0.009 | 0.007 | 0.007 | 0.008 | 0.011 |  0.004 | 0.013 | 0.010 | 0.008 | ⋯ | 0.062 |  0.058 | 0.031 | 0.025 | 0.084 | 0.119 | 0.081 | 0.090 | 0.126 | 0.126 |\n| Fndc3a | 0.166 | 0.058 | 0.301 | 0.286 | 0.259 | 0.069 |  0.240 | 1.250 | 0.099 | 0.077 | ⋯ | 1.618 |  0.761 | 0.215 | 0.170 | 0.961 | 1.108 | 2.070 | 1.073 | 1.084 | 0.963 |\n| Npas3 | 0.200 | 0.157 | 1.111 | 0.563 | 0.130 | 1.099 |  0.090 | 1.654 | 0.082 | 0.997 | ⋯ | 0.456 |  1.188 | 0.547 | 0.573 | 1.262 | 1.792 | 0.688 | 0.881 | 1.899 | 1.243 |\n| Celf6 | 0.490 | 0.103 | 0.807 | 0.330 | 0.699 | 0.299 |  0.490 | 0.552 | 0.769 | 0.463 | ⋯ | 0.110 |  0.390 | 0.164 | 0.651 | 0.232 | 0.277 | 0.163 | 0.178 | 0.203 | 0.194 |\n| Inpp4b | 0.004 | 0.071 | 0.086 | 0.013 | 0.019 | 0.026 |  0.012 | 0.013 | 0.036 | 0.031 | ⋯ | 0.141 |  0.315 | 0.035 | 0.048 | 0.262 | 6.495 | 2.898 | 0.390 | 0.222 | 0.178 |\n| Npas1 | 0.061 | 0.019 | 1.288 | 0.379 | 1.258 | 1.674 |  0.987 | 1.881 | 0.851 | 1.124 | ⋯ | 0.059 |  0.452 | 0.118 | 0.504 | 0.126 | 0.123 | 0.031 | 0.076 | 0.078 | 0.172 |\n| Ache | 0.343 | 0.338 | 0.518 | 0.700 | 1.055 | 0.447 |  0.580 | 0.306 | 0.535 | 0.500 | ⋯ | 0.130 |  0.215 | 0.292 | 0.754 | 0.097 | 0.081 | 0.093 | 0.084 | 0.077 | 0.089 |\n| Clnk | 0.016 | 0.023 | 0.161 | 0.217 | 0.006 | 0.043 |  0.007 | 0.046 | 0.024 | 0.010 | ⋯ | 0.005 |  0.006 | 0.036 | 0.034 | 0.005 | 0.007 | 0.005 | 0.004 | 0.003 | 0.007 |\n| Sel1l3 | 0.076 | 2.842 | 0.340 | 1.214 | 0.524 | 0.174 |  1.334 | 0.216 | 0.339 | 0.347 | ⋯ | 0.529 |  1.108 | 0.696 | 0.180 | 0.645 | 0.773 | 0.864 | 0.470 | 0.585 | 0.512 |\n| Adarb2 | 0.471 | 0.584 | 0.581 | 0.344 | 0.303 | 0.708 |  0.308 | 0.559 | 0.523 | 0.487 | ⋯ | 0.014 |  0.534 | 0.855 | 0.365 | 0.024 | 0.036 | 0.013 | 0.016 | 0.015 | 0.046 |\n| Nrxn3 | 3.870 | 1.575 | 8.587 | 2.681 | 5.697 | 4.754 | 10.585 | 8.278 | 9.241 | 6.795 | ⋯ | 5.313 | 10.975 | 3.742 | 3.144 | 8.091 | 3.290 | 2.252 | 1.943 | 3.309 | 2.213 |\n| Fam211b | 0.028 | 0.163 | 0.018 | 0.016 | 0.031 | 0.373 |  0.028 | 0.027 | 0.606 | 0.020 | ⋯ | 0.086 |  0.173 | 0.060 | 0.042 | 0.191 | 0.233 | 0.116 | 0.161 | 0.212 | 0.180 |\n| Akap7 | 1.330 | 0.073 | 0.053 | 0.504 | 0.271 | 1.185 |  1.107 | 1.150 | 0.817 | 4.515 | ⋯ | 0.625 |  0.812 | 0.267 | 0.239 | 0.842 | 0.740 | 0.659 | 0.787 | 0.950 | 0.758 |\n| Chrna4 | 0.982 | 0.657 | 1.852 | 1.857 | 1.817 | 1.624 |  0.833 | 1.225 | 3.825 | 1.669 | ⋯ | 0.057 |  0.224 | 0.049 | 0.447 | 0.083 | 0.075 | 0.054 | 0.058 | 0.056 | 0.055 |\n| Ugp2 | 0.565 | 0.353 | 0.379 | 0.222 | 0.730 | 0.756 |  0.166 | 0.296 | 0.426 | 0.222 | ⋯ | 1.066 |  1.623 | 0.492 | 0.342 | 2.910 | 2.712 | 2.233 | 2.080 | 3.471 | 2.355 |\n| Tmem242 | 0.621 | 0.064 | 0.040 | 0.043 | 0.068 | 0.181 |  0.080 | 0.517 | 0.999 | 0.201 | ⋯ | 0.663 |  0.430 | 2.792 | 0.759 | 0.773 | 0.956 | 0.889 | 1.208 | 1.041 | 5.694 |\n\n",
            "text/latex": "A matrix: 100 × 3005 of type dbl\n\\begin{tabular}{r|lllllllllllllllllllll}\n  & 1772071015\\_C02 & 1772071017\\_G12 & 1772071017\\_A05 & 1772071014\\_B06 & 1772067065\\_H06 & 1772071017\\_E02 & 1772067065\\_B07 & 1772067060\\_B09 & 1772071014\\_E04 & 1772071015\\_D04 & ⋯ & 1772066110\\_D12 & 1772071017\\_A07 & 1772063071\\_G10 & 1772058148\\_C03 & 1772063061\\_D09 & 1772067059\\_B04 & 1772066097\\_D04 & 1772063068\\_D01 & 1772066098\\_A12 & 1772058148\\_F03\\\\\n\\hline\n\tTspan12 & 0.040 & 0.037 & 0.027 & 0.271 & 0.049 & 0.039 & 0.455 & 0.045 & 0.064 & 0.045 & ⋯ &  0.314 & 0.408 & 0.136 & 0.117 &  0.495 &  0.577 &  0.567 &  0.668 &  0.708 &  2.637\\\\\n\tTshz1 & 0.516 & 0.158 & 0.026 & 0.193 & 0.335 & 0.295 & 0.375 & 0.178 & 0.064 & 0.352 & ⋯ &  0.420 & 0.593 & 0.158 & 0.121 &  0.645 &  0.628 &  0.529 &  0.881 &  0.951 &  3.301\\\\\n\tFnbp1l & 0.533 & 0.185 & 0.564 & 0.368 & 0.332 & 0.351 & 0.309 & 0.131 & 1.419 & 0.462 & ⋯ &  0.710 & 1.016 & 0.340 & 0.215 &  1.276 &  1.266 &  1.087 &  0.983 &  1.225 &  1.366\\\\\n\tAdamts15 & 0.006 & 0.008 & 0.004 & 0.005 & 0.008 & 0.009 & 0.007 & 0.011 & 0.011 & 0.010 & ⋯ &  0.043 & 0.100 & 0.023 & 0.026 &  0.076 &  0.172 &  0.083 &  0.123 &  0.118 &  0.140\\\\\n\tCldn12 & 0.212 & 0.177 & 0.118 & 0.038 & 0.074 & 0.053 & 0.071 & 0.067 & 0.470 & 0.450 & ⋯ &  0.372 & 0.466 & 0.158 & 0.132 &  0.570 &  0.564 &  0.463 &  0.558 &  0.673 &  0.493\\\\\n\tRxfp1 & 0.015 & 0.025 & 0.012 & 0.016 & 0.018 & 0.137 & 0.019 & 0.021 & 0.179 & 0.026 & ⋯ &  0.022 & 0.023 & 0.035 & 0.551 &  0.015 &  0.016 &  0.023 &  0.016 &  0.014 &  0.023\\\\\n\t2310042E22Rik & 0.035 & 0.140 & 0.199 & 0.302 & 0.026 & 0.066 & 0.041 & 0.029 & 0.012 & 0.028 & ⋯ &  0.006 & 0.013 & 1.903 & 0.058 &  0.003 &  0.005 &  0.005 &  0.003 &  0.003 &  0.004\\\\\n\tSema3c & 1.871 & 0.029 & 2.407 & 0.180 & 1.838 & 0.067 & 1.280 & 0.086 & 2.125 & 4.717 & ⋯ &  0.283 & 0.867 & 1.019 & 0.201 &  1.162 &  1.201 &  1.009 &  0.968 &  1.283 &  2.106\\\\\n\tJam2 & 0.190 & 0.011 & 0.128 & 0.011 & 0.028 & 0.139 & 0.019 & 0.015 & 0.252 & 0.083 & ⋯ &  0.401 & 0.417 & 0.137 & 0.085 &  1.063 &  1.274 &  1.241 &  1.003 &  2.191 &  1.847\\\\\n\tApbb1ip & 0.003 & 0.010 & 0.012 & 0.013 & 0.018 & 0.011 & 0.163 & 0.030 & 0.006 & 0.021 & ⋯ &  0.059 & 0.091 & 0.045 & 0.033 &  0.126 &  0.185 &  0.182 &  0.177 &  0.202 &  0.098\\\\\n\tFrem2 & 0.005 & 0.013 & 0.008 & 0.009 & 0.014 & 0.014 & 0.012 & 0.201 & 0.009 & 0.008 & ⋯ &  0.078 & 0.113 & 0.050 & 0.022 &  0.162 &  0.196 &  0.123 &  0.153 &  0.181 &  0.157\\\\\n\tBC005764 & 0.106 & 0.443 & 0.141 & 0.070 & 0.101 & 0.360 & 0.537 & 0.739 & 0.110 & 0.117 & ⋯ &  0.131 & 0.691 & 3.044 & 0.172 &  0.699 &  0.095 &  0.117 &  0.084 &  0.113 &  0.093\\\\\n\tDeptor & 0.158 & 0.034 & 0.110 & 0.026 & 0.040 & 0.032 & 0.186 & 0.031 & 0.292 & 0.023 & ⋯ &  0.042 & 0.052 & 0.065 & 0.045 &  0.032 &  0.037 &  0.046 &  0.038 &  0.039 &  0.037\\\\\n\tC130030K03Rik & 0.023 & 0.020 & 0.015 & 0.014 & 0.026 & 0.277 & 0.025 & 0.026 & 0.032 & 0.322 & ⋯ &  0.133 & 0.133 & 0.070 & 0.057 &  0.180 &  0.198 &  0.160 &  0.184 &  0.194 &  0.156\\\\\n\tKlhl13 & 0.571 & 0.323 & 0.131 & 0.064 & 0.115 & 0.456 & 1.235 & 1.265 & 3.056 & 2.272 & ⋯ &  0.402 & 0.526 & 0.321 & 0.682 &  2.426 &  0.818 &  1.502 &  0.544 &  0.686 &  0.463\\\\\n\tTnfaip8l3 & 0.035 & 0.051 & 0.041 & 0.060 & 0.030 & 0.097 & 0.049 & 0.113 & 0.058 & 0.418 & ⋯ &  0.131 & 0.145 & 0.151 & 0.196 &  0.173 &  0.229 &  0.189 &  0.120 &  0.133 &  0.155\\\\\n\tAscl1 & 0.013 & 0.014 & 0.014 & 0.010 & 0.024 & 0.120 & 0.014 & 0.022 & 0.025 & 0.544 & ⋯ &  0.076 & 0.045 & 0.019 & 0.030 &  0.073 &  0.040 &  0.041 &  0.065 &  0.056 &  0.052\\\\\n\tAtp1b2 & 1.396 & 0.754 & 0.812 & 0.636 & 1.175 & 1.414 & 0.109 & 0.714 & 1.322 & 0.690 & ⋯ &  1.205 & 1.818 & 0.436 & 1.368 &  6.284 &  6.273 &  1.864 &  2.074 &  9.591 &  7.999\\\\\n\tTmem132e & 0.093 & 0.059 & 0.099 & 0.131 & 0.078 & 0.154 & 0.135 & 0.127 & 0.148 & 0.115 & ⋯ &  0.027 & 0.134 & 0.101 & 0.079 &  0.030 &  0.031 &  0.023 &  0.023 &  0.022 &  0.051\\\\\n\tPrkar2b & 0.903 & 0.259 & 1.435 & 0.518 & 3.912 & 0.499 & 2.102 & 0.437 & 3.690 & 0.477 & ⋯ &  0.476 & 2.208 & 0.197 & 0.926 &  1.365 &  0.287 &  0.338 &  0.325 &  0.352 &  0.347\\\\\n\tNecab1 & 2.218 & 0.131 & 3.225 & 0.252 & 0.653 & 0.120 & 1.593 & 0.350 & 1.335 & 0.479 & ⋯ &  1.649 & 0.173 & 1.178 & 0.249 &  0.252 &  0.213 &  0.330 &  0.229 &  0.247 &  0.189\\\\\n\tNr2f2 & 0.031 & 2.783 & 0.320 & 1.730 & 0.957 & 4.529 & 0.427 & 2.507 & 0.186 & 2.394 & ⋯ &  0.444 & 1.032 & 0.943 & 3.465 &  0.829 &  4.744 &  1.127 &  0.822 &  1.127 &  1.140\\\\\n\tStmn1-rs1 & 0.476 & 0.094 & 0.051 & 0.284 & 0.342 & 0.368 & 0.886 & 0.107 & 0.458 & 0.484 & ⋯ &  0.137 & 0.256 & 0.159 & 0.140 &  0.147 &  0.155 &  0.139 &  0.201 &  0.183 &  0.230\\\\\n\tShisa9 & 0.997 & 0.560 & 0.767 & 0.521 & 0.277 & 0.646 & 1.273 & 0.482 & 0.596 & 0.451 & ⋯ &  0.142 & 0.742 & 0.805 & 1.079 &  0.200 &  0.196 &  0.161 &  0.126 &  0.227 &  0.207\\\\\n\tSub1 & 4.793 & 5.890 & 5.570 & 3.157 & 5.997 & 2.018 & 5.086 & 3.455 & 6.463 & 5.476 & ⋯ & 18.858 & 9.714 & 9.300 & 5.299 & 18.569 & 18.162 & 27.228 & 13.500 & 14.530 & 10.231\\\\\n\tVat1l & 0.010 & 0.016 & 0.020 & 0.016 & 0.072 & 0.033 & 0.712 & 0.039 & 0.442 & 0.036 & ⋯ &  0.086 & 0.045 & 0.049 & 0.041 &  0.065 &  0.060 &  0.061 &  0.074 &  0.058 &  0.057\\\\\n\tPcdh18 & 0.019 & 0.080 & 0.006 & 0.010 & 0.029 & 0.307 & 0.016 & 0.185 & 0.493 & 0.865 & ⋯ &  0.139 & 0.237 & 0.036 & 0.056 &  0.258 &  0.917 &  3.070 &  0.454 &  0.264 &  0.351\\\\\n\tDpysl5 & 0.199 & 0.032 & 0.236 & 0.106 & 0.221 & 0.424 & 0.092 & 0.378 & 0.215 & 0.746 & ⋯ &  0.089 & 0.492 & 0.178 & 0.117 &  0.379 &  0.618 &  0.185 &  0.196 &  0.290 &  0.143\\\\\n\tAgtr2 & 0.003 & 0.003 & 0.002 & 0.002 & 0.003 & 0.003 & 0.003 & 0.003 & 0.004 & 0.003 & ⋯ &  0.007 & 0.007 & 0.006 & 0.005 &  0.008 &  0.008 &  0.008 &  0.008 &  0.008 &  0.008\\\\\n\tCxcl14 & 3.849 & 2.558 & 2.567 & 8.984 & 0.028 & 3.603 & 5.275 & 2.021 & 0.634 & 1.765 & ⋯ &  1.739 & 0.591 & 2.217 & 8.273 &  0.717 &  1.660 &  0.186 &  0.403 &  3.434 &  1.195\\\\\n\t⋮ & ⋮ & ⋮ & ⋮ & ⋮ & ⋮ & ⋮ & ⋮ & ⋮ & ⋮ & ⋮ & ⋱ & ⋮ & ⋮ & ⋮ & ⋮ & ⋮ & ⋮ & ⋮ & ⋮ & ⋮ & ⋮\\\\\n\tCapn5 & 0.555 & 0.043 & 0.026 & 0.035 & 0.051 & 0.056 &  0.057 & 0.051 & 0.094 & 0.042 & ⋯ & 0.539 &  0.725 & 0.313 & 0.133 & 1.019 & 1.021 & 1.122 & 1.274 & 1.100 & 1.097\\\\\n\tOsbpl5 & 0.039 & 0.269 & 0.023 & 0.024 & 0.358 & 0.271 &  0.472 & 0.045 & 0.047 & 0.039 & ⋯ & 0.185 &  0.314 & 0.096 & 0.089 & 0.277 & 0.243 & 0.188 & 0.282 & 0.346 & 0.288\\\\\n\tNrtn & 0.006 & 0.020 & 0.013 & 0.746 & 0.026 & 0.158 &  0.177 & 0.206 & 0.008 & 0.216 & ⋯ & 0.031 &  0.112 & 0.082 & 0.013 & 0.041 & 0.042 & 0.034 & 0.036 & 0.041 & 0.026\\\\\n\tNr2f1 & 2.218 & 1.508 & 1.092 & 0.846 & 2.593 & 0.769 &  2.674 & 0.453 & 0.499 & 2.157 & ⋯ & 1.336 &  6.727 & 0.620 & 1.008 & 3.579 & 1.768 & 1.311 & 1.439 & 5.533 & 4.035\\\\\n\tGalnt14 & 0.644 & 0.298 & 0.051 & 0.617 & 0.062 & 0.175 &  1.523 & 0.726 & 0.276 & 0.633 & ⋯ & 0.072 &  0.106 & 0.566 & 0.109 & 0.032 & 0.048 & 0.059 & 0.047 & 0.029 & 0.037\\\\\n\tSlc35f1 & 0.132 & 0.256 & 0.865 & 0.182 & 1.582 & 0.701 &  0.251 & 0.888 & 0.806 & 0.287 & ⋯ & 0.284 &  1.395 & 0.416 & 0.358 & 0.371 & 0.335 & 0.257 & 0.202 & 0.267 & 0.266\\\\\n\tMmgt1 & 0.206 & 0.272 & 0.049 & 0.047 & 0.258 & 0.074 &  0.083 & 0.222 & 0.089 & 0.171 & ⋯ & 0.606 &  0.682 & 0.289 & 0.156 & 0.993 & 1.280 & 0.968 & 1.327 & 1.457 & 0.888\\\\\n\tHtr7 & 0.013 & 0.011 & 0.009 & 0.171 & 0.871 & 0.012 &  0.014 & 0.303 & 0.017 & 0.014 & ⋯ & 0.043 &  0.043 & 0.031 & 0.027 & 0.047 & 0.048 & 0.046 & 0.048 & 0.048 & 0.046\\\\\n\tE130309F12Rik & 0.222 & 0.182 & 0.403 & 0.243 & 0.223 & 0.125 &  0.163 & 0.294 & 0.171 & 0.137 & ⋯ & 0.097 &  0.116 & 0.361 & 0.304 & 0.106 & 0.098 & 0.088 & 0.065 & 0.069 & 0.049\\\\\n\tWtap & 0.777 & 0.416 & 0.069 & 0.064 & 0.597 & 0.306 &  0.410 & 0.114 & 0.148 & 0.374 & ⋯ & 1.458 &  0.661 & 0.623 & 0.852 & 0.797 & 0.803 & 1.677 & 1.949 & 0.877 & 0.805\\\\\n\tRacgap1 & 0.021 & 0.018 & 0.014 & 0.165 & 0.023 & 0.019 &  0.022 & 0.150 & 0.175 & 0.021 & ⋯ & 0.055 &  0.055 & 0.043 & 0.038 & 0.058 & 0.059 & 0.057 & 0.059 & 0.059 & 0.057\\\\\n\tArhgap24 & 0.128 & 0.061 & 0.043 & 0.138 & 0.040 & 0.104 &  0.100 & 0.106 & 0.086 & 0.067 & ⋯ & 0.043 &  0.064 & 0.042 & 0.131 & 0.065 & 0.079 & 0.040 & 0.058 & 0.067 & 0.053\\\\\n\tMaml3 & 0.026 & 0.023 & 0.261 & 0.016 & 0.029 & 1.482 &  0.030 & 0.029 & 0.249 & 0.299 & ⋯ & 0.160 &  2.037 & 0.074 & 0.064 & 0.272 & 0.263 & 1.259 & 0.285 & 0.252 & 0.308\\\\\n\tGng2 & 0.942 & 0.900 & 2.555 & 1.197 & 2.560 & 1.574 &  1.740 & 1.283 & 1.387 & 2.438 & ⋯ & 0.590 &  0.864 & 1.021 & 4.068 & 0.973 & 0.980 & 2.956 & 0.636 & 0.695 & 5.968\\\\\n\tTnc & 0.007 & 0.009 & 0.007 & 0.007 & 0.008 & 0.011 &  0.004 & 0.013 & 0.010 & 0.008 & ⋯ & 0.062 &  0.058 & 0.031 & 0.025 & 0.084 & 0.119 & 0.081 & 0.090 & 0.126 & 0.126\\\\\n\tFndc3a & 0.166 & 0.058 & 0.301 & 0.286 & 0.259 & 0.069 &  0.240 & 1.250 & 0.099 & 0.077 & ⋯ & 1.618 &  0.761 & 0.215 & 0.170 & 0.961 & 1.108 & 2.070 & 1.073 & 1.084 & 0.963\\\\\n\tNpas3 & 0.200 & 0.157 & 1.111 & 0.563 & 0.130 & 1.099 &  0.090 & 1.654 & 0.082 & 0.997 & ⋯ & 0.456 &  1.188 & 0.547 & 0.573 & 1.262 & 1.792 & 0.688 & 0.881 & 1.899 & 1.243\\\\\n\tCelf6 & 0.490 & 0.103 & 0.807 & 0.330 & 0.699 & 0.299 &  0.490 & 0.552 & 0.769 & 0.463 & ⋯ & 0.110 &  0.390 & 0.164 & 0.651 & 0.232 & 0.277 & 0.163 & 0.178 & 0.203 & 0.194\\\\\n\tInpp4b & 0.004 & 0.071 & 0.086 & 0.013 & 0.019 & 0.026 &  0.012 & 0.013 & 0.036 & 0.031 & ⋯ & 0.141 &  0.315 & 0.035 & 0.048 & 0.262 & 6.495 & 2.898 & 0.390 & 0.222 & 0.178\\\\\n\tNpas1 & 0.061 & 0.019 & 1.288 & 0.379 & 1.258 & 1.674 &  0.987 & 1.881 & 0.851 & 1.124 & ⋯ & 0.059 &  0.452 & 0.118 & 0.504 & 0.126 & 0.123 & 0.031 & 0.076 & 0.078 & 0.172\\\\\n\tAche & 0.343 & 0.338 & 0.518 & 0.700 & 1.055 & 0.447 &  0.580 & 0.306 & 0.535 & 0.500 & ⋯ & 0.130 &  0.215 & 0.292 & 0.754 & 0.097 & 0.081 & 0.093 & 0.084 & 0.077 & 0.089\\\\\n\tClnk & 0.016 & 0.023 & 0.161 & 0.217 & 0.006 & 0.043 &  0.007 & 0.046 & 0.024 & 0.010 & ⋯ & 0.005 &  0.006 & 0.036 & 0.034 & 0.005 & 0.007 & 0.005 & 0.004 & 0.003 & 0.007\\\\\n\tSel1l3 & 0.076 & 2.842 & 0.340 & 1.214 & 0.524 & 0.174 &  1.334 & 0.216 & 0.339 & 0.347 & ⋯ & 0.529 &  1.108 & 0.696 & 0.180 & 0.645 & 0.773 & 0.864 & 0.470 & 0.585 & 0.512\\\\\n\tAdarb2 & 0.471 & 0.584 & 0.581 & 0.344 & 0.303 & 0.708 &  0.308 & 0.559 & 0.523 & 0.487 & ⋯ & 0.014 &  0.534 & 0.855 & 0.365 & 0.024 & 0.036 & 0.013 & 0.016 & 0.015 & 0.046\\\\\n\tNrxn3 & 3.870 & 1.575 & 8.587 & 2.681 & 5.697 & 4.754 & 10.585 & 8.278 & 9.241 & 6.795 & ⋯ & 5.313 & 10.975 & 3.742 & 3.144 & 8.091 & 3.290 & 2.252 & 1.943 & 3.309 & 2.213\\\\\n\tFam211b & 0.028 & 0.163 & 0.018 & 0.016 & 0.031 & 0.373 &  0.028 & 0.027 & 0.606 & 0.020 & ⋯ & 0.086 &  0.173 & 0.060 & 0.042 & 0.191 & 0.233 & 0.116 & 0.161 & 0.212 & 0.180\\\\\n\tAkap7 & 1.330 & 0.073 & 0.053 & 0.504 & 0.271 & 1.185 &  1.107 & 1.150 & 0.817 & 4.515 & ⋯ & 0.625 &  0.812 & 0.267 & 0.239 & 0.842 & 0.740 & 0.659 & 0.787 & 0.950 & 0.758\\\\\n\tChrna4 & 0.982 & 0.657 & 1.852 & 1.857 & 1.817 & 1.624 &  0.833 & 1.225 & 3.825 & 1.669 & ⋯ & 0.057 &  0.224 & 0.049 & 0.447 & 0.083 & 0.075 & 0.054 & 0.058 & 0.056 & 0.055\\\\\n\tUgp2 & 0.565 & 0.353 & 0.379 & 0.222 & 0.730 & 0.756 &  0.166 & 0.296 & 0.426 & 0.222 & ⋯ & 1.066 &  1.623 & 0.492 & 0.342 & 2.910 & 2.712 & 2.233 & 2.080 & 3.471 & 2.355\\\\\n\tTmem242 & 0.621 & 0.064 & 0.040 & 0.043 & 0.068 & 0.181 &  0.080 & 0.517 & 0.999 & 0.201 & ⋯ & 0.663 &  0.430 & 2.792 & 0.759 & 0.773 & 0.956 & 0.889 & 1.208 & 1.041 & 5.694\\\\\n\\end{tabular}\n",
            "text/plain": [
              "              1772071015_C02 1772071017_G12 1772071017_A05 1772071014_B06\n",
              "Tspan12       0.040          0.037          0.027          0.271         \n",
              "Tshz1         0.516          0.158          0.026          0.193         \n",
              "Fnbp1l        0.533          0.185          0.564          0.368         \n",
              "Adamts15      0.006          0.008          0.004          0.005         \n",
              "Cldn12        0.212          0.177          0.118          0.038         \n",
              "Rxfp1         0.015          0.025          0.012          0.016         \n",
              "2310042E22Rik 0.035          0.140          0.199          0.302         \n",
              "Sema3c        1.871          0.029          2.407          0.180         \n",
              "Jam2          0.190          0.011          0.128          0.011         \n",
              "Apbb1ip       0.003          0.010          0.012          0.013         \n",
              "Frem2         0.005          0.013          0.008          0.009         \n",
              "BC005764      0.106          0.443          0.141          0.070         \n",
              "Deptor        0.158          0.034          0.110          0.026         \n",
              "C130030K03Rik 0.023          0.020          0.015          0.014         \n",
              "Klhl13        0.571          0.323          0.131          0.064         \n",
              "Tnfaip8l3     0.035          0.051          0.041          0.060         \n",
              "Ascl1         0.013          0.014          0.014          0.010         \n",
              "Atp1b2        1.396          0.754          0.812          0.636         \n",
              "Tmem132e      0.093          0.059          0.099          0.131         \n",
              "Prkar2b       0.903          0.259          1.435          0.518         \n",
              "Necab1        2.218          0.131          3.225          0.252         \n",
              "Nr2f2         0.031          2.783          0.320          1.730         \n",
              "Stmn1-rs1     0.476          0.094          0.051          0.284         \n",
              "Shisa9        0.997          0.560          0.767          0.521         \n",
              "Sub1          4.793          5.890          5.570          3.157         \n",
              "Vat1l         0.010          0.016          0.020          0.016         \n",
              "Pcdh18        0.019          0.080          0.006          0.010         \n",
              "Dpysl5        0.199          0.032          0.236          0.106         \n",
              "Agtr2         0.003          0.003          0.002          0.002         \n",
              "Cxcl14        3.849          2.558          2.567          8.984         \n",
              "⋮             ⋮              ⋮              ⋮              ⋮             \n",
              "Capn5         0.555          0.043          0.026          0.035         \n",
              "Osbpl5        0.039          0.269          0.023          0.024         \n",
              "Nrtn          0.006          0.020          0.013          0.746         \n",
              "Nr2f1         2.218          1.508          1.092          0.846         \n",
              "Galnt14       0.644          0.298          0.051          0.617         \n",
              "Slc35f1       0.132          0.256          0.865          0.182         \n",
              "Mmgt1         0.206          0.272          0.049          0.047         \n",
              "Htr7          0.013          0.011          0.009          0.171         \n",
              "E130309F12Rik 0.222          0.182          0.403          0.243         \n",
              "Wtap          0.777          0.416          0.069          0.064         \n",
              "Racgap1       0.021          0.018          0.014          0.165         \n",
              "Arhgap24      0.128          0.061          0.043          0.138         \n",
              "Maml3         0.026          0.023          0.261          0.016         \n",
              "Gng2          0.942          0.900          2.555          1.197         \n",
              "Tnc           0.007          0.009          0.007          0.007         \n",
              "Fndc3a        0.166          0.058          0.301          0.286         \n",
              "Npas3         0.200          0.157          1.111          0.563         \n",
              "Celf6         0.490          0.103          0.807          0.330         \n",
              "Inpp4b        0.004          0.071          0.086          0.013         \n",
              "Npas1         0.061          0.019          1.288          0.379         \n",
              "Ache          0.343          0.338          0.518          0.700         \n",
              "Clnk          0.016          0.023          0.161          0.217         \n",
              "Sel1l3        0.076          2.842          0.340          1.214         \n",
              "Adarb2        0.471          0.584          0.581          0.344         \n",
              "Nrxn3         3.870          1.575          8.587          2.681         \n",
              "Fam211b       0.028          0.163          0.018          0.016         \n",
              "Akap7         1.330          0.073          0.053          0.504         \n",
              "Chrna4        0.982          0.657          1.852          1.857         \n",
              "Ugp2          0.565          0.353          0.379          0.222         \n",
              "Tmem242       0.621          0.064          0.040          0.043         \n",
              "              1772067065_H06 1772071017_E02 1772067065_B07 1772067060_B09\n",
              "Tspan12       0.049          0.039          0.455          0.045         \n",
              "Tshz1         0.335          0.295          0.375          0.178         \n",
              "Fnbp1l        0.332          0.351          0.309          0.131         \n",
              "Adamts15      0.008          0.009          0.007          0.011         \n",
              "Cldn12        0.074          0.053          0.071          0.067         \n",
              "Rxfp1         0.018          0.137          0.019          0.021         \n",
              "2310042E22Rik 0.026          0.066          0.041          0.029         \n",
              "Sema3c        1.838          0.067          1.280          0.086         \n",
              "Jam2          0.028          0.139          0.019          0.015         \n",
              "Apbb1ip       0.018          0.011          0.163          0.030         \n",
              "Frem2         0.014          0.014          0.012          0.201         \n",
              "BC005764      0.101          0.360          0.537          0.739         \n",
              "Deptor        0.040          0.032          0.186          0.031         \n",
              "C130030K03Rik 0.026          0.277          0.025          0.026         \n",
              "Klhl13        0.115          0.456          1.235          1.265         \n",
              "Tnfaip8l3     0.030          0.097          0.049          0.113         \n",
              "Ascl1         0.024          0.120          0.014          0.022         \n",
              "Atp1b2        1.175          1.414          0.109          0.714         \n",
              "Tmem132e      0.078          0.154          0.135          0.127         \n",
              "Prkar2b       3.912          0.499          2.102          0.437         \n",
              "Necab1        0.653          0.120          1.593          0.350         \n",
              "Nr2f2         0.957          4.529          0.427          2.507         \n",
              "Stmn1-rs1     0.342          0.368          0.886          0.107         \n",
              "Shisa9        0.277          0.646          1.273          0.482         \n",
              "Sub1          5.997          2.018          5.086          3.455         \n",
              "Vat1l         0.072          0.033          0.712          0.039         \n",
              "Pcdh18        0.029          0.307          0.016          0.185         \n",
              "Dpysl5        0.221          0.424          0.092          0.378         \n",
              "Agtr2         0.003          0.003          0.003          0.003         \n",
              "Cxcl14        0.028          3.603          5.275          2.021         \n",
              "⋮             ⋮              ⋮              ⋮              ⋮             \n",
              "Capn5         0.051          0.056           0.057         0.051         \n",
              "Osbpl5        0.358          0.271           0.472         0.045         \n",
              "Nrtn          0.026          0.158           0.177         0.206         \n",
              "Nr2f1         2.593          0.769           2.674         0.453         \n",
              "Galnt14       0.062          0.175           1.523         0.726         \n",
              "Slc35f1       1.582          0.701           0.251         0.888         \n",
              "Mmgt1         0.258          0.074           0.083         0.222         \n",
              "Htr7          0.871          0.012           0.014         0.303         \n",
              "E130309F12Rik 0.223          0.125           0.163         0.294         \n",
              "Wtap          0.597          0.306           0.410         0.114         \n",
              "Racgap1       0.023          0.019           0.022         0.150         \n",
              "Arhgap24      0.040          0.104           0.100         0.106         \n",
              "Maml3         0.029          1.482           0.030         0.029         \n",
              "Gng2          2.560          1.574           1.740         1.283         \n",
              "Tnc           0.008          0.011           0.004         0.013         \n",
              "Fndc3a        0.259          0.069           0.240         1.250         \n",
              "Npas3         0.130          1.099           0.090         1.654         \n",
              "Celf6         0.699          0.299           0.490         0.552         \n",
              "Inpp4b        0.019          0.026           0.012         0.013         \n",
              "Npas1         1.258          1.674           0.987         1.881         \n",
              "Ache          1.055          0.447           0.580         0.306         \n",
              "Clnk          0.006          0.043           0.007         0.046         \n",
              "Sel1l3        0.524          0.174           1.334         0.216         \n",
              "Adarb2        0.303          0.708           0.308         0.559         \n",
              "Nrxn3         5.697          4.754          10.585         8.278         \n",
              "Fam211b       0.031          0.373           0.028         0.027         \n",
              "Akap7         0.271          1.185           1.107         1.150         \n",
              "Chrna4        1.817          1.624           0.833         1.225         \n",
              "Ugp2          0.730          0.756           0.166         0.296         \n",
              "Tmem242       0.068          0.181           0.080         0.517         \n",
              "              1772071014_E04 1772071015_D04 ⋯ 1772066110_D12 1772071017_A07\n",
              "Tspan12       0.064          0.045          ⋯  0.314         0.408         \n",
              "Tshz1         0.064          0.352          ⋯  0.420         0.593         \n",
              "Fnbp1l        1.419          0.462          ⋯  0.710         1.016         \n",
              "Adamts15      0.011          0.010          ⋯  0.043         0.100         \n",
              "Cldn12        0.470          0.450          ⋯  0.372         0.466         \n",
              "Rxfp1         0.179          0.026          ⋯  0.022         0.023         \n",
              "2310042E22Rik 0.012          0.028          ⋯  0.006         0.013         \n",
              "Sema3c        2.125          4.717          ⋯  0.283         0.867         \n",
              "Jam2          0.252          0.083          ⋯  0.401         0.417         \n",
              "Apbb1ip       0.006          0.021          ⋯  0.059         0.091         \n",
              "Frem2         0.009          0.008          ⋯  0.078         0.113         \n",
              "BC005764      0.110          0.117          ⋯  0.131         0.691         \n",
              "Deptor        0.292          0.023          ⋯  0.042         0.052         \n",
              "C130030K03Rik 0.032          0.322          ⋯  0.133         0.133         \n",
              "Klhl13        3.056          2.272          ⋯  0.402         0.526         \n",
              "Tnfaip8l3     0.058          0.418          ⋯  0.131         0.145         \n",
              "Ascl1         0.025          0.544          ⋯  0.076         0.045         \n",
              "Atp1b2        1.322          0.690          ⋯  1.205         1.818         \n",
              "Tmem132e      0.148          0.115          ⋯  0.027         0.134         \n",
              "Prkar2b       3.690          0.477          ⋯  0.476         2.208         \n",
              "Necab1        1.335          0.479          ⋯  1.649         0.173         \n",
              "Nr2f2         0.186          2.394          ⋯  0.444         1.032         \n",
              "Stmn1-rs1     0.458          0.484          ⋯  0.137         0.256         \n",
              "Shisa9        0.596          0.451          ⋯  0.142         0.742         \n",
              "Sub1          6.463          5.476          ⋯ 18.858         9.714         \n",
              "Vat1l         0.442          0.036          ⋯  0.086         0.045         \n",
              "Pcdh18        0.493          0.865          ⋯  0.139         0.237         \n",
              "Dpysl5        0.215          0.746          ⋯  0.089         0.492         \n",
              "Agtr2         0.004          0.003          ⋯  0.007         0.007         \n",
              "Cxcl14        0.634          1.765          ⋯  1.739         0.591         \n",
              "⋮             ⋮              ⋮              ⋱ ⋮              ⋮             \n",
              "Capn5         0.094          0.042          ⋯ 0.539           0.725        \n",
              "Osbpl5        0.047          0.039          ⋯ 0.185           0.314        \n",
              "Nrtn          0.008          0.216          ⋯ 0.031           0.112        \n",
              "Nr2f1         0.499          2.157          ⋯ 1.336           6.727        \n",
              "Galnt14       0.276          0.633          ⋯ 0.072           0.106        \n",
              "Slc35f1       0.806          0.287          ⋯ 0.284           1.395        \n",
              "Mmgt1         0.089          0.171          ⋯ 0.606           0.682        \n",
              "Htr7          0.017          0.014          ⋯ 0.043           0.043        \n",
              "E130309F12Rik 0.171          0.137          ⋯ 0.097           0.116        \n",
              "Wtap          0.148          0.374          ⋯ 1.458           0.661        \n",
              "Racgap1       0.175          0.021          ⋯ 0.055           0.055        \n",
              "Arhgap24      0.086          0.067          ⋯ 0.043           0.064        \n",
              "Maml3         0.249          0.299          ⋯ 0.160           2.037        \n",
              "Gng2          1.387          2.438          ⋯ 0.590           0.864        \n",
              "Tnc           0.010          0.008          ⋯ 0.062           0.058        \n",
              "Fndc3a        0.099          0.077          ⋯ 1.618           0.761        \n",
              "Npas3         0.082          0.997          ⋯ 0.456           1.188        \n",
              "Celf6         0.769          0.463          ⋯ 0.110           0.390        \n",
              "Inpp4b        0.036          0.031          ⋯ 0.141           0.315        \n",
              "Npas1         0.851          1.124          ⋯ 0.059           0.452        \n",
              "Ache          0.535          0.500          ⋯ 0.130           0.215        \n",
              "Clnk          0.024          0.010          ⋯ 0.005           0.006        \n",
              "Sel1l3        0.339          0.347          ⋯ 0.529           1.108        \n",
              "Adarb2        0.523          0.487          ⋯ 0.014           0.534        \n",
              "Nrxn3         9.241          6.795          ⋯ 5.313          10.975        \n",
              "Fam211b       0.606          0.020          ⋯ 0.086           0.173        \n",
              "Akap7         0.817          4.515          ⋯ 0.625           0.812        \n",
              "Chrna4        3.825          1.669          ⋯ 0.057           0.224        \n",
              "Ugp2          0.426          0.222          ⋯ 1.066           1.623        \n",
              "Tmem242       0.999          0.201          ⋯ 0.663           0.430        \n",
              "              1772063071_G10 1772058148_C03 1772063061_D09 1772067059_B04\n",
              "Tspan12       0.136          0.117           0.495          0.577        \n",
              "Tshz1         0.158          0.121           0.645          0.628        \n",
              "Fnbp1l        0.340          0.215           1.276          1.266        \n",
              "Adamts15      0.023          0.026           0.076          0.172        \n",
              "Cldn12        0.158          0.132           0.570          0.564        \n",
              "Rxfp1         0.035          0.551           0.015          0.016        \n",
              "2310042E22Rik 1.903          0.058           0.003          0.005        \n",
              "Sema3c        1.019          0.201           1.162          1.201        \n",
              "Jam2          0.137          0.085           1.063          1.274        \n",
              "Apbb1ip       0.045          0.033           0.126          0.185        \n",
              "Frem2         0.050          0.022           0.162          0.196        \n",
              "BC005764      3.044          0.172           0.699          0.095        \n",
              "Deptor        0.065          0.045           0.032          0.037        \n",
              "C130030K03Rik 0.070          0.057           0.180          0.198        \n",
              "Klhl13        0.321          0.682           2.426          0.818        \n",
              "Tnfaip8l3     0.151          0.196           0.173          0.229        \n",
              "Ascl1         0.019          0.030           0.073          0.040        \n",
              "Atp1b2        0.436          1.368           6.284          6.273        \n",
              "Tmem132e      0.101          0.079           0.030          0.031        \n",
              "Prkar2b       0.197          0.926           1.365          0.287        \n",
              "Necab1        1.178          0.249           0.252          0.213        \n",
              "Nr2f2         0.943          3.465           0.829          4.744        \n",
              "Stmn1-rs1     0.159          0.140           0.147          0.155        \n",
              "Shisa9        0.805          1.079           0.200          0.196        \n",
              "Sub1          9.300          5.299          18.569         18.162        \n",
              "Vat1l         0.049          0.041           0.065          0.060        \n",
              "Pcdh18        0.036          0.056           0.258          0.917        \n",
              "Dpysl5        0.178          0.117           0.379          0.618        \n",
              "Agtr2         0.006          0.005           0.008          0.008        \n",
              "Cxcl14        2.217          8.273           0.717          1.660        \n",
              "⋮             ⋮              ⋮              ⋮              ⋮             \n",
              "Capn5         0.313          0.133          1.019          1.021         \n",
              "Osbpl5        0.096          0.089          0.277          0.243         \n",
              "Nrtn          0.082          0.013          0.041          0.042         \n",
              "Nr2f1         0.620          1.008          3.579          1.768         \n",
              "Galnt14       0.566          0.109          0.032          0.048         \n",
              "Slc35f1       0.416          0.358          0.371          0.335         \n",
              "Mmgt1         0.289          0.156          0.993          1.280         \n",
              "Htr7          0.031          0.027          0.047          0.048         \n",
              "E130309F12Rik 0.361          0.304          0.106          0.098         \n",
              "Wtap          0.623          0.852          0.797          0.803         \n",
              "Racgap1       0.043          0.038          0.058          0.059         \n",
              "Arhgap24      0.042          0.131          0.065          0.079         \n",
              "Maml3         0.074          0.064          0.272          0.263         \n",
              "Gng2          1.021          4.068          0.973          0.980         \n",
              "Tnc           0.031          0.025          0.084          0.119         \n",
              "Fndc3a        0.215          0.170          0.961          1.108         \n",
              "Npas3         0.547          0.573          1.262          1.792         \n",
              "Celf6         0.164          0.651          0.232          0.277         \n",
              "Inpp4b        0.035          0.048          0.262          6.495         \n",
              "Npas1         0.118          0.504          0.126          0.123         \n",
              "Ache          0.292          0.754          0.097          0.081         \n",
              "Clnk          0.036          0.034          0.005          0.007         \n",
              "Sel1l3        0.696          0.180          0.645          0.773         \n",
              "Adarb2        0.855          0.365          0.024          0.036         \n",
              "Nrxn3         3.742          3.144          8.091          3.290         \n",
              "Fam211b       0.060          0.042          0.191          0.233         \n",
              "Akap7         0.267          0.239          0.842          0.740         \n",
              "Chrna4        0.049          0.447          0.083          0.075         \n",
              "Ugp2          0.492          0.342          2.910          2.712         \n",
              "Tmem242       2.792          0.759          0.773          0.956         \n",
              "              1772066097_D04 1772063068_D01 1772066098_A12 1772058148_F03\n",
              "Tspan12        0.567          0.668          0.708          2.637        \n",
              "Tshz1          0.529          0.881          0.951          3.301        \n",
              "Fnbp1l         1.087          0.983          1.225          1.366        \n",
              "Adamts15       0.083          0.123          0.118          0.140        \n",
              "Cldn12         0.463          0.558          0.673          0.493        \n",
              "Rxfp1          0.023          0.016          0.014          0.023        \n",
              "2310042E22Rik  0.005          0.003          0.003          0.004        \n",
              "Sema3c         1.009          0.968          1.283          2.106        \n",
              "Jam2           1.241          1.003          2.191          1.847        \n",
              "Apbb1ip        0.182          0.177          0.202          0.098        \n",
              "Frem2          0.123          0.153          0.181          0.157        \n",
              "BC005764       0.117          0.084          0.113          0.093        \n",
              "Deptor         0.046          0.038          0.039          0.037        \n",
              "C130030K03Rik  0.160          0.184          0.194          0.156        \n",
              "Klhl13         1.502          0.544          0.686          0.463        \n",
              "Tnfaip8l3      0.189          0.120          0.133          0.155        \n",
              "Ascl1          0.041          0.065          0.056          0.052        \n",
              "Atp1b2         1.864          2.074          9.591          7.999        \n",
              "Tmem132e       0.023          0.023          0.022          0.051        \n",
              "Prkar2b        0.338          0.325          0.352          0.347        \n",
              "Necab1         0.330          0.229          0.247          0.189        \n",
              "Nr2f2          1.127          0.822          1.127          1.140        \n",
              "Stmn1-rs1      0.139          0.201          0.183          0.230        \n",
              "Shisa9         0.161          0.126          0.227          0.207        \n",
              "Sub1          27.228         13.500         14.530         10.231        \n",
              "Vat1l          0.061          0.074          0.058          0.057        \n",
              "Pcdh18         3.070          0.454          0.264          0.351        \n",
              "Dpysl5         0.185          0.196          0.290          0.143        \n",
              "Agtr2          0.008          0.008          0.008          0.008        \n",
              "Cxcl14         0.186          0.403          3.434          1.195        \n",
              "⋮             ⋮              ⋮              ⋮              ⋮             \n",
              "Capn5         1.122          1.274          1.100          1.097         \n",
              "Osbpl5        0.188          0.282          0.346          0.288         \n",
              "Nrtn          0.034          0.036          0.041          0.026         \n",
              "Nr2f1         1.311          1.439          5.533          4.035         \n",
              "Galnt14       0.059          0.047          0.029          0.037         \n",
              "Slc35f1       0.257          0.202          0.267          0.266         \n",
              "Mmgt1         0.968          1.327          1.457          0.888         \n",
              "Htr7          0.046          0.048          0.048          0.046         \n",
              "E130309F12Rik 0.088          0.065          0.069          0.049         \n",
              "Wtap          1.677          1.949          0.877          0.805         \n",
              "Racgap1       0.057          0.059          0.059          0.057         \n",
              "Arhgap24      0.040          0.058          0.067          0.053         \n",
              "Maml3         1.259          0.285          0.252          0.308         \n",
              "Gng2          2.956          0.636          0.695          5.968         \n",
              "Tnc           0.081          0.090          0.126          0.126         \n",
              "Fndc3a        2.070          1.073          1.084          0.963         \n",
              "Npas3         0.688          0.881          1.899          1.243         \n",
              "Celf6         0.163          0.178          0.203          0.194         \n",
              "Inpp4b        2.898          0.390          0.222          0.178         \n",
              "Npas1         0.031          0.076          0.078          0.172         \n",
              "Ache          0.093          0.084          0.077          0.089         \n",
              "Clnk          0.005          0.004          0.003          0.007         \n",
              "Sel1l3        0.864          0.470          0.585          0.512         \n",
              "Adarb2        0.013          0.016          0.015          0.046         \n",
              "Nrxn3         2.252          1.943          3.309          2.213         \n",
              "Fam211b       0.116          0.161          0.212          0.180         \n",
              "Akap7         0.659          0.787          0.950          0.758         \n",
              "Chrna4        0.054          0.058          0.056          0.055         \n",
              "Ugp2          2.233          2.080          3.471          2.355         \n",
              "Tmem242       0.889          1.208          1.041          5.694         "
            ]
          },
          "metadata": {}
        }
      ]
    },
    {
      "cell_type": "code",
      "source": [
        ""
      ],
      "metadata": {
        "id": "JPQT2Et2D-j3"
      },
      "execution_count": null,
      "outputs": []
    }
  ]
}