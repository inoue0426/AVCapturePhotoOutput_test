{
  "nbformat": 4,
  "nbformat_minor": 0,
  "metadata": {
    "colab": {
      "name": "scScope.ipynb",
      "provenance": [],
      "collapsed_sections": [],
      "authorship_tag": "ABX9TyM4bUiuY1hYtJCqFyLqZ7sy",
      "include_colab_link": true
    },
    "kernelspec": {
      "name": "python3",
      "display_name": "Python 3"
    },
    "language_info": {
      "name": "python"
    },
    "accelerator": "GPU"
  },
  "cells": [
    {
      "cell_type": "markdown",
      "metadata": {
        "id": "view-in-github",
        "colab_type": "text"
      },
      "source": [
        "<a href=\"https://colab.research.google.com/github/inoue0426/AVCapturePhotoOutput_test/blob/master/notebooks/scScope.ipynb\" target=\"_parent\"><img src=\"https://colab.research.google.com/assets/colab-badge.svg\" alt=\"Open In Colab\"/></a>"
      ]
    },
    {
      "cell_type": "code",
      "execution_count": null,
      "metadata": {
        "colab": {
          "base_uri": "https://localhost:8080/"
        },
        "id": "cGM7plZQar50",
        "outputId": "d6072e69-d270-4194-b361-09516f2d1634"
      },
      "outputs": [
        {
          "output_type": "stream",
          "name": "stdout",
          "text": [
            "Installing collected packages: stdlib-list, pynndescent, umap-learn, session-info, anndata, scanpy\n",
            "Successfully installed anndata-0.8.0 pynndescent-0.5.6 scanpy-1.9.0 session-info-1.0.0 stdlib-list-0.8.0 umap-learn-0.5.2\n"
          ]
        }
      ],
      "source": [
        "!pip install scScope\n",
        "!pip install scanpy"
      ]
    },
    {
      "cell_type": "code",
      "source": [
        "import pandas as pd\n",
        "import numpy as np\n",
        "import matplotlib.pyplot as plt\n",
        "\n",
        "import scanpy as sc\n",
        "import scscope as DeepImpute"
      ],
      "metadata": {
        "id": "rkfk4sNna0-_"
      },
      "execution_count": null,
      "outputs": []
    },
    {
      "cell_type": "code",
      "source": [
        ""
      ],
      "metadata": {
        "id": "nmP6G32MfMOU"
      },
      "execution_count": null,
      "outputs": []
    },
    {
      "cell_type": "code",
      "source": [
        "!git clone https://github.com/AltschulerWu-Lab/scScope.git"
      ],
      "metadata": {
        "colab": {
          "base_uri": "https://localhost:8080/"
        },
        "id": "8no88Xr2bbHA",
        "outputId": "2646275e-49bd-4fe2-fb8b-0557ea500d65"
      },
      "execution_count": null,
      "outputs": [
        {
          "output_type": "stream",
          "name": "stdout",
          "text": [
            "Cloning into 'scScope'...\n",
            "remote: Enumerating objects: 164, done.\u001b[K\n",
            "remote: Total 164 (delta 0), reused 0 (delta 0), pack-reused 164\u001b[K\n",
            "Receiving objects: 100% (164/164), 7.69 MiB | 15.75 MiB/s, done.\n",
            "Resolving deltas: 100% (73/73), done.\n"
          ]
        }
      ]
    },
    {
      "cell_type": "code",
      "source": [
        "counts_drop = pd.read_csv('scScope/counts_1.csv', header=0, index_col=0)\n",
        "cellinfo = pd.read_csv('scScope/cellinfo_1.csv', header=0, index_col=0)"
      ],
      "metadata": {
        "id": "jaSoXYbCcSvV"
      },
      "execution_count": null,
      "outputs": []
    },
    {
      "cell_type": "code",
      "source": [
        "counts_drop.head()"
      ],
      "metadata": {
        "colab": {
          "base_uri": "https://localhost:8080/",
          "height": 299
        },
        "id": "_z-1Dj5pcTDn",
        "outputId": "23bbd631-dd66-4baf-c446-9f9ca67a6f07"
      },
      "execution_count": null,
      "outputs": [
        {
          "output_type": "execute_result",
          "data": {
            "text/plain": [
              "       Gene1  Gene2  Gene3  Gene4  Gene5  Gene6  Gene7  Gene8  Gene9  Gene10  \\\n",
              "Cell1    862      0      0      0      0      1      0      0      0       0   \n",
              "Cell2   1256      0      0      0     77      0      0      0      0       0   \n",
              "Cell3    885      0      0      0      0      0      0      0      0       0   \n",
              "Cell4    546      0      0      0      0      0     10      0      0       0   \n",
              "Cell5    491      0      0      0      0      0      0      0      0       3   \n",
              "\n",
              "       ...  Gene991  Gene992  Gene993  Gene994  Gene995  Gene996  Gene997  \\\n",
              "Cell1  ...        0        0       11        0        0      601        0   \n",
              "Cell2  ...        0        0        0        0      132      858       23   \n",
              "Cell3  ...        0        0        0       31       59      522       16   \n",
              "Cell4  ...        7        0        0       27        0      475        0   \n",
              "Cell5  ...        0        0        0        0        0        0        0   \n",
              "\n",
              "       Gene998  Gene999  Gene1000  \n",
              "Cell1        0        0        60  \n",
              "Cell2        0        0         0  \n",
              "Cell3        0        0         0  \n",
              "Cell4        0        0        83  \n",
              "Cell5        0       14         0  \n",
              "\n",
              "[5 rows x 1000 columns]"
            ],
            "text/html": [
              "\n",
              "  <div id=\"df-6dafd359-359a-4538-be4b-d0b455f881ba\">\n",
              "    <div class=\"colab-df-container\">\n",
              "      <div>\n",
              "<style scoped>\n",
              "    .dataframe tbody tr th:only-of-type {\n",
              "        vertical-align: middle;\n",
              "    }\n",
              "\n",
              "    .dataframe tbody tr th {\n",
              "        vertical-align: top;\n",
              "    }\n",
              "\n",
              "    .dataframe thead th {\n",
              "        text-align: right;\n",
              "    }\n",
              "</style>\n",
              "<table border=\"1\" class=\"dataframe\">\n",
              "  <thead>\n",
              "    <tr style=\"text-align: right;\">\n",
              "      <th></th>\n",
              "      <th>Gene1</th>\n",
              "      <th>Gene2</th>\n",
              "      <th>Gene3</th>\n",
              "      <th>Gene4</th>\n",
              "      <th>Gene5</th>\n",
              "      <th>Gene6</th>\n",
              "      <th>Gene7</th>\n",
              "      <th>Gene8</th>\n",
              "      <th>Gene9</th>\n",
              "      <th>Gene10</th>\n",
              "      <th>...</th>\n",
              "      <th>Gene991</th>\n",
              "      <th>Gene992</th>\n",
              "      <th>Gene993</th>\n",
              "      <th>Gene994</th>\n",
              "      <th>Gene995</th>\n",
              "      <th>Gene996</th>\n",
              "      <th>Gene997</th>\n",
              "      <th>Gene998</th>\n",
              "      <th>Gene999</th>\n",
              "      <th>Gene1000</th>\n",
              "    </tr>\n",
              "  </thead>\n",
              "  <tbody>\n",
              "    <tr>\n",
              "      <th>Cell1</th>\n",
              "      <td>862</td>\n",
              "      <td>0</td>\n",
              "      <td>0</td>\n",
              "      <td>0</td>\n",
              "      <td>0</td>\n",
              "      <td>1</td>\n",
              "      <td>0</td>\n",
              "      <td>0</td>\n",
              "      <td>0</td>\n",
              "      <td>0</td>\n",
              "      <td>...</td>\n",
              "      <td>0</td>\n",
              "      <td>0</td>\n",
              "      <td>11</td>\n",
              "      <td>0</td>\n",
              "      <td>0</td>\n",
              "      <td>601</td>\n",
              "      <td>0</td>\n",
              "      <td>0</td>\n",
              "      <td>0</td>\n",
              "      <td>60</td>\n",
              "    </tr>\n",
              "    <tr>\n",
              "      <th>Cell2</th>\n",
              "      <td>1256</td>\n",
              "      <td>0</td>\n",
              "      <td>0</td>\n",
              "      <td>0</td>\n",
              "      <td>77</td>\n",
              "      <td>0</td>\n",
              "      <td>0</td>\n",
              "      <td>0</td>\n",
              "      <td>0</td>\n",
              "      <td>0</td>\n",
              "      <td>...</td>\n",
              "      <td>0</td>\n",
              "      <td>0</td>\n",
              "      <td>0</td>\n",
              "      <td>0</td>\n",
              "      <td>132</td>\n",
              "      <td>858</td>\n",
              "      <td>23</td>\n",
              "      <td>0</td>\n",
              "      <td>0</td>\n",
              "      <td>0</td>\n",
              "    </tr>\n",
              "    <tr>\n",
              "      <th>Cell3</th>\n",
              "      <td>885</td>\n",
              "      <td>0</td>\n",
              "      <td>0</td>\n",
              "      <td>0</td>\n",
              "      <td>0</td>\n",
              "      <td>0</td>\n",
              "      <td>0</td>\n",
              "      <td>0</td>\n",
              "      <td>0</td>\n",
              "      <td>0</td>\n",
              "      <td>...</td>\n",
              "      <td>0</td>\n",
              "      <td>0</td>\n",
              "      <td>0</td>\n",
              "      <td>31</td>\n",
              "      <td>59</td>\n",
              "      <td>522</td>\n",
              "      <td>16</td>\n",
              "      <td>0</td>\n",
              "      <td>0</td>\n",
              "      <td>0</td>\n",
              "    </tr>\n",
              "    <tr>\n",
              "      <th>Cell4</th>\n",
              "      <td>546</td>\n",
              "      <td>0</td>\n",
              "      <td>0</td>\n",
              "      <td>0</td>\n",
              "      <td>0</td>\n",
              "      <td>0</td>\n",
              "      <td>10</td>\n",
              "      <td>0</td>\n",
              "      <td>0</td>\n",
              "      <td>0</td>\n",
              "      <td>...</td>\n",
              "      <td>7</td>\n",
              "      <td>0</td>\n",
              "      <td>0</td>\n",
              "      <td>27</td>\n",
              "      <td>0</td>\n",
              "      <td>475</td>\n",
              "      <td>0</td>\n",
              "      <td>0</td>\n",
              "      <td>0</td>\n",
              "      <td>83</td>\n",
              "    </tr>\n",
              "    <tr>\n",
              "      <th>Cell5</th>\n",
              "      <td>491</td>\n",
              "      <td>0</td>\n",
              "      <td>0</td>\n",
              "      <td>0</td>\n",
              "      <td>0</td>\n",
              "      <td>0</td>\n",
              "      <td>0</td>\n",
              "      <td>0</td>\n",
              "      <td>0</td>\n",
              "      <td>3</td>\n",
              "      <td>...</td>\n",
              "      <td>0</td>\n",
              "      <td>0</td>\n",
              "      <td>0</td>\n",
              "      <td>0</td>\n",
              "      <td>0</td>\n",
              "      <td>0</td>\n",
              "      <td>0</td>\n",
              "      <td>0</td>\n",
              "      <td>14</td>\n",
              "      <td>0</td>\n",
              "    </tr>\n",
              "  </tbody>\n",
              "</table>\n",
              "<p>5 rows × 1000 columns</p>\n",
              "</div>\n",
              "      <button class=\"colab-df-convert\" onclick=\"convertToInteractive('df-6dafd359-359a-4538-be4b-d0b455f881ba')\"\n",
              "              title=\"Convert this dataframe to an interactive table.\"\n",
              "              style=\"display:none;\">\n",
              "        \n",
              "  <svg xmlns=\"http://www.w3.org/2000/svg\" height=\"24px\"viewBox=\"0 0 24 24\"\n",
              "       width=\"24px\">\n",
              "    <path d=\"M0 0h24v24H0V0z\" fill=\"none\"/>\n",
              "    <path d=\"M18.56 5.44l.94 2.06.94-2.06 2.06-.94-2.06-.94-.94-2.06-.94 2.06-2.06.94zm-11 1L8.5 8.5l.94-2.06 2.06-.94-2.06-.94L8.5 2.5l-.94 2.06-2.06.94zm10 10l.94 2.06.94-2.06 2.06-.94-2.06-.94-.94-2.06-.94 2.06-2.06.94z\"/><path d=\"M17.41 7.96l-1.37-1.37c-.4-.4-.92-.59-1.43-.59-.52 0-1.04.2-1.43.59L10.3 9.45l-7.72 7.72c-.78.78-.78 2.05 0 2.83L4 21.41c.39.39.9.59 1.41.59.51 0 1.02-.2 1.41-.59l7.78-7.78 2.81-2.81c.8-.78.8-2.07 0-2.86zM5.41 20L4 18.59l7.72-7.72 1.47 1.35L5.41 20z\"/>\n",
              "  </svg>\n",
              "      </button>\n",
              "      \n",
              "  <style>\n",
              "    .colab-df-container {\n",
              "      display:flex;\n",
              "      flex-wrap:wrap;\n",
              "      gap: 12px;\n",
              "    }\n",
              "\n",
              "    .colab-df-convert {\n",
              "      background-color: #E8F0FE;\n",
              "      border: none;\n",
              "      border-radius: 50%;\n",
              "      cursor: pointer;\n",
              "      display: none;\n",
              "      fill: #1967D2;\n",
              "      height: 32px;\n",
              "      padding: 0 0 0 0;\n",
              "      width: 32px;\n",
              "    }\n",
              "\n",
              "    .colab-df-convert:hover {\n",
              "      background-color: #E2EBFA;\n",
              "      box-shadow: 0px 1px 2px rgba(60, 64, 67, 0.3), 0px 1px 3px 1px rgba(60, 64, 67, 0.15);\n",
              "      fill: #174EA6;\n",
              "    }\n",
              "\n",
              "    [theme=dark] .colab-df-convert {\n",
              "      background-color: #3B4455;\n",
              "      fill: #D2E3FC;\n",
              "    }\n",
              "\n",
              "    [theme=dark] .colab-df-convert:hover {\n",
              "      background-color: #434B5C;\n",
              "      box-shadow: 0px 1px 3px 1px rgba(0, 0, 0, 0.15);\n",
              "      filter: drop-shadow(0px 1px 2px rgba(0, 0, 0, 0.3));\n",
              "      fill: #FFFFFF;\n",
              "    }\n",
              "  </style>\n",
              "\n",
              "      <script>\n",
              "        const buttonEl =\n",
              "          document.querySelector('#df-6dafd359-359a-4538-be4b-d0b455f881ba button.colab-df-convert');\n",
              "        buttonEl.style.display =\n",
              "          google.colab.kernel.accessAllowed ? 'block' : 'none';\n",
              "\n",
              "        async function convertToInteractive(key) {\n",
              "          const element = document.querySelector('#df-6dafd359-359a-4538-be4b-d0b455f881ba');\n",
              "          const dataTable =\n",
              "            await google.colab.kernel.invokeFunction('convertToInteractive',\n",
              "                                                     [key], {});\n",
              "          if (!dataTable) return;\n",
              "\n",
              "          const docLinkHtml = 'Like what you see? Visit the ' +\n",
              "            '<a target=\"_blank\" href=https://colab.research.google.com/notebooks/data_table.ipynb>data table notebook</a>'\n",
              "            + ' to learn more about interactive tables.';\n",
              "          element.innerHTML = '';\n",
              "          dataTable['output_type'] = 'display_data';\n",
              "          await google.colab.output.renderOutput(dataTable, element);\n",
              "          const docLink = document.createElement('div');\n",
              "          docLink.innerHTML = docLinkHtml;\n",
              "          element.appendChild(docLink);\n",
              "        }\n",
              "      </script>\n",
              "    </div>\n",
              "  </div>\n",
              "  "
            ]
          },
          "metadata": {},
          "execution_count": 13
        }
      ]
    },
    {
      "cell_type": "code",
      "source": [
        "cellinfo"
      ],
      "metadata": {
        "colab": {
          "base_uri": "https://localhost:8080/",
          "height": 424
        },
        "id": "lWpY47SMc3DX",
        "outputId": "aada7f22-a3e5-4439-d35e-82cc99f67bc5"
      },
      "execution_count": null,
      "outputs": [
        {
          "output_type": "execute_result",
          "data": {
            "text/plain": [
              "              Cell   Batch   Group    ExpLibSize\n",
              "Cell1        Cell1  Batch1  Group1  56535.819348\n",
              "Cell2        Cell2  Batch1  Group3  86527.830292\n",
              "Cell3        Cell3  Batch1  Group3  58026.039058\n",
              "Cell4        Cell4  Batch1  Group4  45344.287050\n",
              "Cell5        Cell5  Batch1  Group1  44595.097129\n",
              "...            ...     ...     ...           ...\n",
              "Cell1996  Cell1996  Batch1  Group3  43560.314123\n",
              "Cell1997  Cell1997  Batch1  Group5  69353.640040\n",
              "Cell1998  Cell1998  Batch1  Group2  75369.369102\n",
              "Cell1999  Cell1999  Batch1  Group3  50594.138321\n",
              "Cell2000  Cell2000  Batch1  Group3  50399.891888\n",
              "\n",
              "[2000 rows x 4 columns]"
            ],
            "text/html": [
              "\n",
              "  <div id=\"df-bfa28096-f5ce-461a-b696-be362ba5b05c\">\n",
              "    <div class=\"colab-df-container\">\n",
              "      <div>\n",
              "<style scoped>\n",
              "    .dataframe tbody tr th:only-of-type {\n",
              "        vertical-align: middle;\n",
              "    }\n",
              "\n",
              "    .dataframe tbody tr th {\n",
              "        vertical-align: top;\n",
              "    }\n",
              "\n",
              "    .dataframe thead th {\n",
              "        text-align: right;\n",
              "    }\n",
              "</style>\n",
              "<table border=\"1\" class=\"dataframe\">\n",
              "  <thead>\n",
              "    <tr style=\"text-align: right;\">\n",
              "      <th></th>\n",
              "      <th>Cell</th>\n",
              "      <th>Batch</th>\n",
              "      <th>Group</th>\n",
              "      <th>ExpLibSize</th>\n",
              "    </tr>\n",
              "  </thead>\n",
              "  <tbody>\n",
              "    <tr>\n",
              "      <th>Cell1</th>\n",
              "      <td>Cell1</td>\n",
              "      <td>Batch1</td>\n",
              "      <td>Group1</td>\n",
              "      <td>56535.819348</td>\n",
              "    </tr>\n",
              "    <tr>\n",
              "      <th>Cell2</th>\n",
              "      <td>Cell2</td>\n",
              "      <td>Batch1</td>\n",
              "      <td>Group3</td>\n",
              "      <td>86527.830292</td>\n",
              "    </tr>\n",
              "    <tr>\n",
              "      <th>Cell3</th>\n",
              "      <td>Cell3</td>\n",
              "      <td>Batch1</td>\n",
              "      <td>Group3</td>\n",
              "      <td>58026.039058</td>\n",
              "    </tr>\n",
              "    <tr>\n",
              "      <th>Cell4</th>\n",
              "      <td>Cell4</td>\n",
              "      <td>Batch1</td>\n",
              "      <td>Group4</td>\n",
              "      <td>45344.287050</td>\n",
              "    </tr>\n",
              "    <tr>\n",
              "      <th>Cell5</th>\n",
              "      <td>Cell5</td>\n",
              "      <td>Batch1</td>\n",
              "      <td>Group1</td>\n",
              "      <td>44595.097129</td>\n",
              "    </tr>\n",
              "    <tr>\n",
              "      <th>...</th>\n",
              "      <td>...</td>\n",
              "      <td>...</td>\n",
              "      <td>...</td>\n",
              "      <td>...</td>\n",
              "    </tr>\n",
              "    <tr>\n",
              "      <th>Cell1996</th>\n",
              "      <td>Cell1996</td>\n",
              "      <td>Batch1</td>\n",
              "      <td>Group3</td>\n",
              "      <td>43560.314123</td>\n",
              "    </tr>\n",
              "    <tr>\n",
              "      <th>Cell1997</th>\n",
              "      <td>Cell1997</td>\n",
              "      <td>Batch1</td>\n",
              "      <td>Group5</td>\n",
              "      <td>69353.640040</td>\n",
              "    </tr>\n",
              "    <tr>\n",
              "      <th>Cell1998</th>\n",
              "      <td>Cell1998</td>\n",
              "      <td>Batch1</td>\n",
              "      <td>Group2</td>\n",
              "      <td>75369.369102</td>\n",
              "    </tr>\n",
              "    <tr>\n",
              "      <th>Cell1999</th>\n",
              "      <td>Cell1999</td>\n",
              "      <td>Batch1</td>\n",
              "      <td>Group3</td>\n",
              "      <td>50594.138321</td>\n",
              "    </tr>\n",
              "    <tr>\n",
              "      <th>Cell2000</th>\n",
              "      <td>Cell2000</td>\n",
              "      <td>Batch1</td>\n",
              "      <td>Group3</td>\n",
              "      <td>50399.891888</td>\n",
              "    </tr>\n",
              "  </tbody>\n",
              "</table>\n",
              "<p>2000 rows × 4 columns</p>\n",
              "</div>\n",
              "      <button class=\"colab-df-convert\" onclick=\"convertToInteractive('df-bfa28096-f5ce-461a-b696-be362ba5b05c')\"\n",
              "              title=\"Convert this dataframe to an interactive table.\"\n",
              "              style=\"display:none;\">\n",
              "        \n",
              "  <svg xmlns=\"http://www.w3.org/2000/svg\" height=\"24px\"viewBox=\"0 0 24 24\"\n",
              "       width=\"24px\">\n",
              "    <path d=\"M0 0h24v24H0V0z\" fill=\"none\"/>\n",
              "    <path d=\"M18.56 5.44l.94 2.06.94-2.06 2.06-.94-2.06-.94-.94-2.06-.94 2.06-2.06.94zm-11 1L8.5 8.5l.94-2.06 2.06-.94-2.06-.94L8.5 2.5l-.94 2.06-2.06.94zm10 10l.94 2.06.94-2.06 2.06-.94-2.06-.94-.94-2.06-.94 2.06-2.06.94z\"/><path d=\"M17.41 7.96l-1.37-1.37c-.4-.4-.92-.59-1.43-.59-.52 0-1.04.2-1.43.59L10.3 9.45l-7.72 7.72c-.78.78-.78 2.05 0 2.83L4 21.41c.39.39.9.59 1.41.59.51 0 1.02-.2 1.41-.59l7.78-7.78 2.81-2.81c.8-.78.8-2.07 0-2.86zM5.41 20L4 18.59l7.72-7.72 1.47 1.35L5.41 20z\"/>\n",
              "  </svg>\n",
              "      </button>\n",
              "      \n",
              "  <style>\n",
              "    .colab-df-container {\n",
              "      display:flex;\n",
              "      flex-wrap:wrap;\n",
              "      gap: 12px;\n",
              "    }\n",
              "\n",
              "    .colab-df-convert {\n",
              "      background-color: #E8F0FE;\n",
              "      border: none;\n",
              "      border-radius: 50%;\n",
              "      cursor: pointer;\n",
              "      display: none;\n",
              "      fill: #1967D2;\n",
              "      height: 32px;\n",
              "      padding: 0 0 0 0;\n",
              "      width: 32px;\n",
              "    }\n",
              "\n",
              "    .colab-df-convert:hover {\n",
              "      background-color: #E2EBFA;\n",
              "      box-shadow: 0px 1px 2px rgba(60, 64, 67, 0.3), 0px 1px 3px 1px rgba(60, 64, 67, 0.15);\n",
              "      fill: #174EA6;\n",
              "    }\n",
              "\n",
              "    [theme=dark] .colab-df-convert {\n",
              "      background-color: #3B4455;\n",
              "      fill: #D2E3FC;\n",
              "    }\n",
              "\n",
              "    [theme=dark] .colab-df-convert:hover {\n",
              "      background-color: #434B5C;\n",
              "      box-shadow: 0px 1px 3px 1px rgba(0, 0, 0, 0.15);\n",
              "      filter: drop-shadow(0px 1px 2px rgba(0, 0, 0, 0.3));\n",
              "      fill: #FFFFFF;\n",
              "    }\n",
              "  </style>\n",
              "\n",
              "      <script>\n",
              "        const buttonEl =\n",
              "          document.querySelector('#df-bfa28096-f5ce-461a-b696-be362ba5b05c button.colab-df-convert');\n",
              "        buttonEl.style.display =\n",
              "          google.colab.kernel.accessAllowed ? 'block' : 'none';\n",
              "\n",
              "        async function convertToInteractive(key) {\n",
              "          const element = document.querySelector('#df-bfa28096-f5ce-461a-b696-be362ba5b05c');\n",
              "          const dataTable =\n",
              "            await google.colab.kernel.invokeFunction('convertToInteractive',\n",
              "                                                     [key], {});\n",
              "          if (!dataTable) return;\n",
              "\n",
              "          const docLinkHtml = 'Like what you see? Visit the ' +\n",
              "            '<a target=\"_blank\" href=https://colab.research.google.com/notebooks/data_table.ipynb>data table notebook</a>'\n",
              "            + ' to learn more about interactive tables.';\n",
              "          element.innerHTML = '';\n",
              "          dataTable['output_type'] = 'display_data';\n",
              "          await google.colab.output.renderOutput(dataTable, element);\n",
              "          const docLink = document.createElement('div');\n",
              "          docLink.innerHTML = docLinkHtml;\n",
              "          element.appendChild(docLink);\n",
              "        }\n",
              "      </script>\n",
              "    </div>\n",
              "  </div>\n",
              "  "
            ]
          },
          "metadata": {},
          "execution_count": 14
        }
      ]
    },
    {
      "cell_type": "code",
      "source": [
        "group = cellinfo.Group\n",
        "group.head()"
      ],
      "metadata": {
        "colab": {
          "base_uri": "https://localhost:8080/"
        },
        "id": "eRm6qFRWdjK0",
        "outputId": "c5367d48-689b-46f8-c5fa-ed88e5d83769"
      },
      "execution_count": null,
      "outputs": [
        {
          "output_type": "execute_result",
          "data": {
            "text/plain": [
              "Cell1    Group1\n",
              "Cell2    Group3\n",
              "Cell3    Group3\n",
              "Cell4    Group4\n",
              "Cell5    Group1\n",
              "Name: Group, dtype: object"
            ]
          },
          "metadata": {},
          "execution_count": 16
        }
      ]
    },
    {
      "cell_type": "code",
      "source": [
        "label_ground_truth = []\n",
        "for g in group:\n",
        "    g = int(g.split('Group')[1])\n",
        "    label_ground_truth.append(g)"
      ],
      "metadata": {
        "id": "GU9ye8theYno"
      },
      "execution_count": null,
      "outputs": []
    },
    {
      "cell_type": "code",
      "source": [
        "label_ground_truth[:10]"
      ],
      "metadata": {
        "colab": {
          "base_uri": "https://localhost:8080/"
        },
        "id": "_WQaaPY8eeOE",
        "outputId": "c206de72-6925-4fc1-b778-d338a207e25e"
      },
      "execution_count": null,
      "outputs": [
        {
          "output_type": "execute_result",
          "data": {
            "text/plain": [
              "[1, 3, 3, 4, 1, 3, 1, 1, 5, 5]"
            ]
          },
          "metadata": {},
          "execution_count": 21
        }
      ]
    },
    {
      "cell_type": "code",
      "source": [
        "gene_expression = sc.AnnData(counts_drop.values)\n",
        "# normalize each cell to have same count number\n",
        "sc.pp.normalize_per_cell(gene_expression)\n",
        "gene_expression = gene_expression.X"
      ],
      "metadata": {
        "colab": {
          "base_uri": "https://localhost:8080/"
        },
        "id": "xQNb9iIYehhj",
        "outputId": "d3bee463-0133-478f-eda0-bd743a12d861"
      },
      "execution_count": null,
      "outputs": [
        {
          "output_type": "stream",
          "name": "stderr",
          "text": [
            "/usr/local/lib/python3.7/dist-packages/ipykernel_launcher.py:1: FutureWarning: X.dtype being converted to np.float32 from int64. In the next version of anndata (0.9) conversion will not be automatic. Pass dtype explicitly to avoid this warning. Pass `AnnData(X, dtype=X.dtype, ...)` to get the future behavour.\n",
            "  \"\"\"Entry point for launching an IPython kernel.\n"
          ]
        }
      ]
    },
    {
      "cell_type": "code",
      "source": [
        "gene_expression"
      ],
      "metadata": {
        "colab": {
          "base_uri": "https://localhost:8080/"
        },
        "id": "eu2_9o67fG3Q",
        "outputId": "453ff3ed-14cf-4dec-b6b8-e2f55f0f8282"
      },
      "execution_count": null,
      "outputs": [
        {
          "output_type": "execute_result",
          "data": {
            "text/plain": [
              "array([[994.4842  ,   0.      ,   0.      , ...,   0.      ,   0.      ,\n",
              "         69.221634],\n",
              "       [852.80927 ,   0.      ,   0.      , ...,   0.      ,   0.      ,\n",
              "          0.      ],\n",
              "       [922.4004  ,   0.      ,   0.      , ...,   0.      ,   0.      ,\n",
              "          0.      ],\n",
              "       ...,\n",
              "       [642.75604 ,   0.      ,   0.      , ...,   0.      ,   0.      ,\n",
              "         64.590675],\n",
              "       [808.89685 ,   0.      ,   0.      , ...,   0.      ,   0.      ,\n",
              "         64.1416  ],\n",
              "       [  0.      ,   0.      ,   0.      , ...,   0.      ,   0.      ,\n",
              "          0.      ]], dtype=float32)"
            ]
          },
          "metadata": {},
          "execution_count": 31
        }
      ]
    },
    {
      "cell_type": "code",
      "source": [
        "latent_dim = 50\n",
        "\n",
        "if gene_expression.shape[0] >= 100000:\n",
        "    DI_model = DeepImpute.train(\n",
        "        gene_expression, latent_dim, T=2, batch_size=512, max_epoch=10, num_gpus=4)\n",
        "else:\n",
        "    DI_model = DeepImpute.train(\n",
        "        gene_expression, latent_dim, T=2, batch_size=64, max_epoch=300, num_gpus=4)"
      ],
      "metadata": {
        "colab": {
          "base_uri": "https://localhost:8080/",
          "height": 354
        },
        "id": "zyul3Bwifqdm",
        "outputId": "8adb4a14-257b-4af3-c138-4a01d36ab18a"
      },
      "execution_count": null,
      "outputs": [
        {
          "output_type": "error",
          "ename": "AttributeError",
          "evalue": "ignored",
          "traceback": [
            "\u001b[0;31m---------------------------------------------------------------------------\u001b[0m",
            "\u001b[0;31mAttributeError\u001b[0m                            Traceback (most recent call last)",
            "\u001b[0;32m<ipython-input-33-e96f672c8ed8>\u001b[0m in \u001b[0;36m<module>\u001b[0;34m()\u001b[0m\n\u001b[1;32m      6\u001b[0m \u001b[0;32melse\u001b[0m\u001b[0;34m:\u001b[0m\u001b[0;34m\u001b[0m\u001b[0;34m\u001b[0m\u001b[0m\n\u001b[1;32m      7\u001b[0m     DI_model = DeepImpute.train(\n\u001b[0;32m----> 8\u001b[0;31m         gene_expression, latent_dim, T=2, batch_size=64, max_epoch=300, num_gpus=4)\n\u001b[0m",
            "\u001b[0;32m/usr/local/lib/python3.7/dist-packages/scscope/__init__.py\u001b[0m in \u001b[0;36mtrain\u001b[0;34m(train_data_set, latent_code_dim, use_mask, batch_size, max_epoch, epoch_per_check, T, exp_batch_idx_input, encoder_layers, decoder_layers, learning_rate, beta1, num_gpus)\u001b[0m\n\u001b[1;32m     74\u001b[0m     \u001b[0;32mwith\u001b[0m \u001b[0mtf\u001b[0m\u001b[0;34m.\u001b[0m\u001b[0mGraph\u001b[0m\u001b[0;34m(\u001b[0m\u001b[0;34m)\u001b[0m\u001b[0;34m.\u001b[0m\u001b[0mas_default\u001b[0m\u001b[0;34m(\u001b[0m\u001b[0;34m)\u001b[0m\u001b[0;34m,\u001b[0m \u001b[0mtf\u001b[0m\u001b[0;34m.\u001b[0m\u001b[0mdevice\u001b[0m\u001b[0;34m(\u001b[0m\u001b[0;34m'/cpu:0'\u001b[0m\u001b[0;34m)\u001b[0m\u001b[0;34m:\u001b[0m\u001b[0;34m\u001b[0m\u001b[0;34m\u001b[0m\u001b[0m\n\u001b[1;32m     75\u001b[0m \u001b[0;34m\u001b[0m\u001b[0m\n\u001b[0;32m---> 76\u001b[0;31m         train_data = tf.placeholder(\n\u001b[0m\u001b[1;32m     77\u001b[0m             tf.float32, [batch_size, np.shape(train_data_set)[1]])\n\u001b[1;32m     78\u001b[0m         exp_batch_idx = tf.placeholder(tf.float32,\n",
            "\u001b[0;31mAttributeError\u001b[0m: module 'tensorflow' has no attribute 'placeholder'"
          ]
        }
      ]
    },
    {
      "cell_type": "code",
      "source": [
        ""
      ],
      "metadata": {
        "id": "7uEUbrM8gM9B"
      },
      "execution_count": null,
      "outputs": []
    }
  ]
}